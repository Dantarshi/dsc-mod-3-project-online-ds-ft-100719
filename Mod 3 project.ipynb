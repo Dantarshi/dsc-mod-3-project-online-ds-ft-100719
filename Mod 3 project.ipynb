{
 "cells": [
  {
   "cell_type": "markdown",
   "metadata": {},
   "source": [
    "# Project Mod 3"
   ]
  },
  {
   "cell_type": "code",
   "execution_count": 292,
   "metadata": {},
   "outputs": [
    {
     "data": {
      "text/plain": [
       "'.'"
      ]
     },
     "execution_count": 292,
     "metadata": {},
     "output_type": "execute_result"
    }
   ],
   "source": [
    "import os\n",
    "os.curdirdir"
   ]
  },
  {
   "cell_type": "markdown",
   "metadata": {},
   "source": [
    "#introduction/business case"
   ]
  },
  {
   "cell_type": "markdown",
   "metadata": {},
   "source": [
    "\n",
    "### Parametric vs Non-Parametric Tests\n",
    "- [Choosing Between Parametric and Non-Parametric Tests](https://blog.minitab.com/blog/adventures-in-statistics-2/choosing-between-a-nonparametric-test-and-a-parametric-test)\n",
    "\n",
    "| Parametric tests (means) | Nonparametric tests (medians) |\n",
    " | --- | --- |\n",
    " | 1-sample t test | 1-sample Sign, 1-sample Wilcoxon |\n",
    " | 2-sample t test | Mann-Whitney tes |\n",
    " | One-Way ANOVA | Kruskal-Wallis, Mood’s median tes |\n",
    " | Factorial DOE with one factor and one blocking variable |Friedman test  |\n",
    "\n",
    "\n",
    "#### When can we ignore violating the assumptions?\n",
    "\n",
    "| Parametric analyses| Sample size guidelines for nonnormal data| \n",
    "| --- | --- |\n",
    "| 1-sample t test| Greater than 20|\n",
    "| 2-sample t test| Each group should be greater than 15| \n",
    "| One-Way ANOVA|If have 2-9 groups, each group n >= 15. <br>If have 10-12 groups, each group n>20.|\n"
   ]
  },
  {
   "cell_type": "markdown",
   "metadata": {},
   "source": [
    "## Statistical Analysis Pipeline\n",
    "\n",
    "1. **Test for Normality**\n",
    "    - D'Agostino-Pearson's normality test<br>\n",
    "    ```scipy.stats.normaltest```\n",
    "    - Shapiro-Wilik Test<br>\n",
    "    ```scipy.stats.shapiro```<br>\n",
    "    \n",
    "    \n",
    "2. **Test for Homogeneity of Variance**\n",
    "\n",
    "    - Levene's Test<br>\n",
    "    ```scipy.stats.levene```\n",
    "\n",
    "\n",
    "3. **Choose appropriate test based upon 1. and 2.** <br> \n",
    "    - T Test (1-sample)\n",
    "        - `stats.ttest_1samp()`\n",
    "    - T Test (2-sample)\n",
    "        - `stats.ttest_ind()`\n",
    "        - [docs](https://docs.scipy.org/doc/scipy/reference/generated/scipy.stats.ttest_ind.html)\n",
    "    - Welch's T-Test (2-sample)\n",
    "        - `stats.ttest_ind(equal_var=False)`\n",
    "        - [docs](https://docs.scipy.org/doc/scipy/reference/generated/scipy.stats.ttest_ind.html)\n",
    "        \n",
    "    - Mann Whitney U\n",
    "        - `stats.mannwhitneyu()`\n",
    "        - [docs](https://docs.scipy.org/doc/scipy/reference/generated/scipy.stats.mannwhitneyu.html)\n",
    "    - ANOVA \n",
    "        - `stats.f_oneway()`\n",
    "        - [docs](https://docs.scipy.org/doc/scipy/reference/generated/scipy.stats.f_oneway.html)\n",
    "    - Tukey's\n",
    "     - `statsmodels.stats.multicomp.pairwise_tukeyhsd`\n",
    "     -[docs](https://www.statsmodels.org/stable/generated/statsmodels.stats.multicomp.pairwise_tukeyhsd.html)\n",
    "    \n",
    "    \n",
    "4. **Calculate effect size for significant results.**\n",
    "    - Effect size: [cohen's d](https://stackoverflow.com/questions/21532471/how-to-calculate-cohens-d-in-python)\n",
    "    - Interpretation:\n",
    "        - Small effect = 0.2 ( cannot be seen by naked eye)\n",
    "        - Medium effect  = 0.5\n",
    "        - Large Effect = 0.8 (can be seen by naked eye)\n",
    "        \n",
    "5. **If significant, follow up with post-hoc tests (if have more than 2 groups)**\n",
    "    - [Tukey's](https://www.statsmodels.org/stable/generated/statsmodels.stats.multicomp.pairwise_tukeyhsd.html)\n"
   ]
  },
  {
   "cell_type": "markdown",
   "metadata": {},
   "source": [
    "## Importing Libraries, and gathering data into  Dataframe"
   ]
  },
  {
   "cell_type": "code",
   "execution_count": 272,
   "metadata": {},
   "outputs": [
    {
     "data": {
      "text/html": [
       "<div>\n",
       "<style scoped>\n",
       "    .dataframe tbody tr th:only-of-type {\n",
       "        vertical-align: middle;\n",
       "    }\n",
       "\n",
       "    .dataframe tbody tr th {\n",
       "        vertical-align: top;\n",
       "    }\n",
       "\n",
       "    .dataframe thead th {\n",
       "        text-align: right;\n",
       "    }\n",
       "</style>\n",
       "<table border=\"1\" class=\"dataframe\">\n",
       "  <thead>\n",
       "    <tr style=\"text-align: right;\">\n",
       "      <th></th>\n",
       "      <th>Id</th>\n",
       "      <th>OrderId</th>\n",
       "      <th>ProductId</th>\n",
       "      <th>UnitPrice</th>\n",
       "      <th>Quantity</th>\n",
       "      <th>Discount</th>\n",
       "    </tr>\n",
       "  </thead>\n",
       "  <tbody>\n",
       "    <tr>\n",
       "      <td>0</td>\n",
       "      <td>10248/11</td>\n",
       "      <td>10248</td>\n",
       "      <td>11</td>\n",
       "      <td>14.0</td>\n",
       "      <td>12</td>\n",
       "      <td>0.0</td>\n",
       "    </tr>\n",
       "    <tr>\n",
       "      <td>1</td>\n",
       "      <td>10248/42</td>\n",
       "      <td>10248</td>\n",
       "      <td>42</td>\n",
       "      <td>9.8</td>\n",
       "      <td>10</td>\n",
       "      <td>0.0</td>\n",
       "    </tr>\n",
       "    <tr>\n",
       "      <td>2</td>\n",
       "      <td>10248/72</td>\n",
       "      <td>10248</td>\n",
       "      <td>72</td>\n",
       "      <td>34.8</td>\n",
       "      <td>5</td>\n",
       "      <td>0.0</td>\n",
       "    </tr>\n",
       "    <tr>\n",
       "      <td>3</td>\n",
       "      <td>10249/14</td>\n",
       "      <td>10249</td>\n",
       "      <td>14</td>\n",
       "      <td>18.6</td>\n",
       "      <td>9</td>\n",
       "      <td>0.0</td>\n",
       "    </tr>\n",
       "    <tr>\n",
       "      <td>4</td>\n",
       "      <td>10249/51</td>\n",
       "      <td>10249</td>\n",
       "      <td>51</td>\n",
       "      <td>42.4</td>\n",
       "      <td>40</td>\n",
       "      <td>0.0</td>\n",
       "    </tr>\n",
       "  </tbody>\n",
       "</table>\n",
       "</div>"
      ],
      "text/plain": [
       "         Id  OrderId  ProductId  UnitPrice  Quantity  Discount\n",
       "0  10248/11    10248         11       14.0        12       0.0\n",
       "1  10248/42    10248         42        9.8        10       0.0\n",
       "2  10248/72    10248         72       34.8         5       0.0\n",
       "3  10249/14    10249         14       18.6         9       0.0\n",
       "4  10249/51    10249         51       42.4        40       0.0"
      ]
     },
     "execution_count": 272,
     "metadata": {},
     "output_type": "execute_result"
    }
   ],
   "source": [
    "import pandas as pd\n",
    "import sqlite3\n",
    "\n",
    "#creating a connection to the database\n",
    "conn = sqlite3.connect('Northwind_small.sqlite')\n",
    "cur = conn.cursor()\n",
    "\n",
    "#querying the database\n",
    "cur.execute(\"\"\"SELECT * \n",
    "               FROM OrderDetail \"\"\")\n",
    "#Storing results in dataframe\n",
    "df = pd.DataFrame(cur.fetchall())\n",
    "df.columns = [x[0] for x in cur.description]\n",
    "df.head()"
   ]
  },
  {
   "cell_type": "code",
   "execution_count": 273,
   "metadata": {},
   "outputs": [
    {
     "data": {
      "text/html": [
       "<div>\n",
       "<style scoped>\n",
       "    .dataframe tbody tr th:only-of-type {\n",
       "        vertical-align: middle;\n",
       "    }\n",
       "\n",
       "    .dataframe tbody tr th {\n",
       "        vertical-align: top;\n",
       "    }\n",
       "\n",
       "    .dataframe thead th {\n",
       "        text-align: right;\n",
       "    }\n",
       "</style>\n",
       "<table border=\"1\" class=\"dataframe\">\n",
       "  <thead>\n",
       "    <tr style=\"text-align: right;\">\n",
       "      <th></th>\n",
       "      <th>Table</th>\n",
       "    </tr>\n",
       "  </thead>\n",
       "  <tbody>\n",
       "    <tr>\n",
       "      <td>0</td>\n",
       "      <td>Employee</td>\n",
       "    </tr>\n",
       "    <tr>\n",
       "      <td>1</td>\n",
       "      <td>Category</td>\n",
       "    </tr>\n",
       "    <tr>\n",
       "      <td>2</td>\n",
       "      <td>Customer</td>\n",
       "    </tr>\n",
       "    <tr>\n",
       "      <td>3</td>\n",
       "      <td>Shipper</td>\n",
       "    </tr>\n",
       "    <tr>\n",
       "      <td>4</td>\n",
       "      <td>Supplier</td>\n",
       "    </tr>\n",
       "    <tr>\n",
       "      <td>5</td>\n",
       "      <td>Order</td>\n",
       "    </tr>\n",
       "    <tr>\n",
       "      <td>6</td>\n",
       "      <td>Product</td>\n",
       "    </tr>\n",
       "    <tr>\n",
       "      <td>7</td>\n",
       "      <td>OrderDetail</td>\n",
       "    </tr>\n",
       "    <tr>\n",
       "      <td>8</td>\n",
       "      <td>CustomerCustomerDemo</td>\n",
       "    </tr>\n",
       "    <tr>\n",
       "      <td>9</td>\n",
       "      <td>CustomerDemographic</td>\n",
       "    </tr>\n",
       "    <tr>\n",
       "      <td>10</td>\n",
       "      <td>Region</td>\n",
       "    </tr>\n",
       "    <tr>\n",
       "      <td>11</td>\n",
       "      <td>Territory</td>\n",
       "    </tr>\n",
       "    <tr>\n",
       "      <td>12</td>\n",
       "      <td>EmployeeTerritory</td>\n",
       "    </tr>\n",
       "  </tbody>\n",
       "</table>\n",
       "</div>"
      ],
      "text/plain": [
       "                   Table\n",
       "0               Employee\n",
       "1               Category\n",
       "2               Customer\n",
       "3                Shipper\n",
       "4               Supplier\n",
       "5                  Order\n",
       "6                Product\n",
       "7            OrderDetail\n",
       "8   CustomerCustomerDemo\n",
       "9    CustomerDemographic\n",
       "10                Region\n",
       "11             Territory\n",
       "12     EmployeeTerritory"
      ]
     },
     "execution_count": 273,
     "metadata": {},
     "output_type": "execute_result"
    }
   ],
   "source": [
    "cur.execute(\"\"\"SELECT name FROM sqlite_master WHERE type='table';\"\"\")\n",
    "df_tables = pd.DataFrame(cur.fetchall(), columns=['Table'])\n",
    "df_tables"
   ]
  },
  {
   "cell_type": "code",
   "execution_count": 274,
   "metadata": {},
   "outputs": [],
   "source": [
    "#effect size\n",
    "#### Cohen's d\n",
    "def Cohen_d(group1, group2):\n",
    "    # Compute Cohen's d.\n",
    "    # group1: Series or NumPy array\n",
    "    # group2: Series or NumPy array\n",
    "    # returns a floating point number \n",
    "    diff = group1.mean() - group2.mean()\n",
    "\n",
    "    n1, n2 = len(group1), len(group2)\n",
    "    var1 = group1.var()\n",
    "    var2 = group2.var()\n",
    "\n",
    "    # Calculate the pooled threshold as shown earlier\n",
    "    pooled_var = (n1 * var1 + n2 * var2) / (n1 + n2)\n",
    "    \n",
    "    # Calculate Cohen's d statistic\n",
    "    d = diff / np.sqrt(pooled_var)\n",
    "    \n",
    "    return d"
   ]
  },
  {
   "cell_type": "markdown",
   "metadata": {},
   "source": [
    "## Hypothese 1"
   ]
  },
  {
   "cell_type": "markdown",
   "metadata": {},
   "source": [
    "Does discount amount have a statistically significant effect on the quantity of a product in an order? If so, at what level(s) of discount?"
   ]
  },
  {
   "cell_type": "markdown",
   "metadata": {},
   "source": [
    "$H_0$: Discount has no effect on the quantity of product in an ordered when comparing discount customers and non discount customers"
   ]
  },
  {
   "cell_type": "markdown",
   "metadata": {},
   "source": [
    "$H_1$: The quantity of product ordered by discount customer is greater than the quantity of product ordered by non discount customers"
   ]
  },
  {
   "cell_type": "markdown",
   "metadata": {},
   "source": [
    "### Experiment Design  "
   ]
  },
  {
   "cell_type": "markdown",
   "metadata": {},
   "source": [
    "Spliting data into two groups, Control and experimental groups"
   ]
  },
  {
   "cell_type": "code",
   "execution_count": 275,
   "metadata": {},
   "outputs": [],
   "source": [
    "#Creating the groups\n",
    "control = df[df['Discount'] == 0]\n",
    "ctrl = control['Quantity']\n",
    "#control_label = control['Discount']\n",
    "\n",
    "\n",
    "experiment = df[df['Discount'] !=0]\n",
    "exp = experiment['Quantity']\n",
    "#exp_label = exp['Discount']"
   ]
  },
  {
   "cell_type": "code",
   "execution_count": 276,
   "metadata": {},
   "outputs": [
    {
     "data": {
      "image/png": "[encoded data removed]",
      "text/plain": [
       "<Figure size 864x720 with 2 Axes>"
      ]
     },
     "metadata": {},
     "output_type": "display_data"
    }
   ],
   "source": [
    "import matplotlib.pyplot as plt\n",
    "import seaborn as sns\n",
    "#dist plot of Quantity values\n",
    "plt.subplot(211)\n",
    "sns.distplot(df['Quantity'], hist='density')\n",
    "plt.title('Distribution of Quantity', fontsize=16)\n",
    "plt.xlabel('Quantity', fontsize=16)\n",
    "#dist plot of discount values\n",
    "plt.subplot(212)\n",
    "sns.distplot(df['Discount'], hist='density')\n",
    "plt.title('Distribution of Discount', fontsize=16)\n",
    "plt.xlabel('Discount', fontsize=16)\n",
    "plt.tight_layout()\n",
    "plt.show()\n"
   ]
  },
  {
   "cell_type": "markdown",
   "metadata": {},
   "source": [
    "### Assumptions"
   ]
  },
  {
   "cell_type": "markdown",
   "metadata": {},
   "source": [
    "1. Normalitity --\n",
    "The population data should be normal."
   ]
  },
  {
   "cell_type": "code",
   "execution_count": 277,
   "metadata": {},
   "outputs": [
    {
     "data": {
      "image/png": "[encoded data removed]",
      "text/plain": [
       "<Figure size 1440x720 with 1 Axes>"
      ]
     },
     "metadata": {},
     "output_type": "display_data"
    }
   ],
   "source": [
    "import scipy.stats as stat\n",
    "\n",
    "# visual check for normality\n",
    "plt.figure(figsize=(20, 10))\n",
    "sns.distplot(ctrl, label='Control')\n",
    "sns.distplot(exp, label='Experiment',kde=True, hist=True )\n",
    "plt.title('Visual Check for Normality', fontsize=25)\n",
    "plt.xlabel('Quantity/Order', fontsize=20)\n",
    "plt.legend(fontsize=55);\n"
   ]
  },
  {
   "cell_type": "code",
   "execution_count": 278,
   "metadata": {},
   "outputs": [
    {
     "name": "stdout",
     "output_type": "stream",
     "text": [
      "NormaltestResult(statistic=544.5770045551502, pvalue=5.579637380545965e-119)\n",
      "NormaltestResult(statistic=261.528012299789, pvalue=1.6214878452829618e-57)\n"
     ]
    }
   ],
   "source": [
    "print(stat.normaltest(ctrl))\n",
    "print(stat.normaltest(exp))"
   ]
  },
  {
   "cell_type": "markdown",
   "metadata": {},
   "source": [
    "2. Independence -- The quantity of product ordered by a customer is independent of the next customer"
   ]
  },
  {
   "cell_type": "markdown",
   "metadata": {},
   "source": [
    "3. Random -- Samples must be randomly selected so that every observation has equal chance of selection"
   ]
  },
  {
   "cell_type": "markdown",
   "metadata": {},
   "source": [
    "### Mann-Whitney U test"
   ]
  },
  {
   "cell_type": "markdown",
   "metadata": {},
   "source": [
    "Since the groups non parametric we will use Mann-Whhitney U test"
   ]
  },
  {
   "cell_type": "code",
   "execution_count": 279,
   "metadata": {},
   "outputs": [
    {
     "data": {
      "text/plain": [
       "MannwhitneyuResult(statistic=461541.0, pvalue=6.629381826999866e-11)"
      ]
     },
     "execution_count": 279,
     "metadata": {},
     "output_type": "execute_result"
    }
   ],
   "source": [
    "stat.mannwhitneyu(ctrl, exp)"
   ]
  },
  {
   "cell_type": "markdown",
   "metadata": {},
   "source": [
    "explain the result-- less that 0.05 so we reject the null hypothesis that Discount has no effect on the quantity of product in an ordered when comparing discount customers and non discount customers"
   ]
  },
  {
   "cell_type": "markdown",
   "metadata": {},
   "source": [
    "### Effect Size\n",
    "Cohen's D"
   ]
  },
  {
   "cell_type": "code",
   "execution_count": 280,
   "metadata": {},
   "outputs": [
    {
     "data": {
      "text/plain": [
       "0.2862724481729282"
      ]
     },
     "execution_count": 280,
     "metadata": {},
     "output_type": "execute_result"
    }
   ],
   "source": [
    "abs(Cohen_d(ctrl, exp))"
   ]
  },
  {
   "cell_type": "markdown",
   "metadata": {},
   "source": [
    "explain the result-- less that 0.05 so we reject the null hypothesis that Discount has no effect on the quantity of product in an ordered when comparing discount customers and non discount customers"
   ]
  },
  {
   "cell_type": "markdown",
   "metadata": {},
   "source": [
    "Now we know that discount amount has a statistically significant effect on quantity of product ordered"
   ]
  },
  {
   "cell_type": "code",
   "execution_count": 281,
   "metadata": {},
   "outputs": [
    {
     "data": {
      "text/plain": [
       "(1317, 838)"
      ]
     },
     "execution_count": 281,
     "metadata": {},
     "output_type": "execute_result"
    }
   ],
   "source": [
    "#checking the length of the 2 groups\n",
    "len_control_data = len(ctrl)\n",
    "len_exp_data = len(exp)\n",
    "len_control_data, len_exp_data"
   ]
  },
  {
   "cell_type": "markdown",
   "metadata": {},
   "source": [
    "### Tukey test"
   ]
  },
  {
   "cell_type": "code",
   "execution_count": 282,
   "metadata": {},
   "outputs": [],
   "source": [
    "data = df['Quantity'].values\n",
    "labels = df['Discount'].values\n",
    "\n",
    "#Run Tukey test\n",
    "import statsmodels.api as sms\n",
    "model = sms.stats.multicomp.pairwise_tukeyhsd(data,labels)\n",
    "#model.summary()\n"
   ]
  },
  {
   "cell_type": "code",
   "execution_count": 283,
   "metadata": {},
   "outputs": [
    {
     "data": {
      "text/html": [
       "<div>\n",
       "<style scoped>\n",
       "    .dataframe tbody tr th:only-of-type {\n",
       "        vertical-align: middle;\n",
       "    }\n",
       "\n",
       "    .dataframe tbody tr th {\n",
       "        vertical-align: top;\n",
       "    }\n",
       "\n",
       "    .dataframe thead th {\n",
       "        text-align: right;\n",
       "    }\n",
       "</style>\n",
       "<table border=\"1\" class=\"dataframe\">\n",
       "  <thead>\n",
       "    <tr style=\"text-align: right;\">\n",
       "      <th></th>\n",
       "      <th>group1</th>\n",
       "      <th>group2</th>\n",
       "      <th>meandiff</th>\n",
       "      <th>p-adj</th>\n",
       "      <th>lower</th>\n",
       "      <th>upper</th>\n",
       "      <th>reject</th>\n",
       "    </tr>\n",
       "  </thead>\n",
       "  <tbody>\n",
       "    <tr>\n",
       "      <td>0</td>\n",
       "      <td>0.0</td>\n",
       "      <td>0.01</td>\n",
       "      <td>-19.7153</td>\n",
       "      <td>0.9</td>\n",
       "      <td>-80.3306</td>\n",
       "      <td>40.9001</td>\n",
       "      <td>False</td>\n",
       "    </tr>\n",
       "    <tr>\n",
       "      <td>1</td>\n",
       "      <td>0.0</td>\n",
       "      <td>0.02</td>\n",
       "      <td>-19.7153</td>\n",
       "      <td>0.9</td>\n",
       "      <td>-62.593</td>\n",
       "      <td>23.1625</td>\n",
       "      <td>False</td>\n",
       "    </tr>\n",
       "    <tr>\n",
       "      <td>2</td>\n",
       "      <td>0.0</td>\n",
       "      <td>0.03</td>\n",
       "      <td>-20.0486</td>\n",
       "      <td>0.725</td>\n",
       "      <td>-55.0714</td>\n",
       "      <td>14.9742</td>\n",
       "      <td>False</td>\n",
       "    </tr>\n",
       "    <tr>\n",
       "      <td>3</td>\n",
       "      <td>0.0</td>\n",
       "      <td>0.04</td>\n",
       "      <td>-20.7153</td>\n",
       "      <td>0.9</td>\n",
       "      <td>-81.3306</td>\n",
       "      <td>39.9001</td>\n",
       "      <td>False</td>\n",
       "    </tr>\n",
       "    <tr>\n",
       "      <td>4</td>\n",
       "      <td>0.0</td>\n",
       "      <td>0.05</td>\n",
       "      <td>6.2955</td>\n",
       "      <td>0.0011</td>\n",
       "      <td>1.5381</td>\n",
       "      <td>11.053</td>\n",
       "      <td>True</td>\n",
       "    </tr>\n",
       "    <tr>\n",
       "      <td>5</td>\n",
       "      <td>0.0</td>\n",
       "      <td>0.06</td>\n",
       "      <td>-19.7153</td>\n",
       "      <td>0.9</td>\n",
       "      <td>-80.3306</td>\n",
       "      <td>40.9001</td>\n",
       "      <td>False</td>\n",
       "    </tr>\n",
       "    <tr>\n",
       "      <td>6</td>\n",
       "      <td>0.0</td>\n",
       "      <td>0.1</td>\n",
       "      <td>3.5217</td>\n",
       "      <td>0.4269</td>\n",
       "      <td>-1.3783</td>\n",
       "      <td>8.4217</td>\n",
       "      <td>False</td>\n",
       "    </tr>\n",
       "    <tr>\n",
       "      <td>7</td>\n",
       "      <td>0.0</td>\n",
       "      <td>0.15</td>\n",
       "      <td>6.6669</td>\n",
       "      <td>0.0014</td>\n",
       "      <td>1.551</td>\n",
       "      <td>11.7828</td>\n",
       "      <td>True</td>\n",
       "    </tr>\n",
       "    <tr>\n",
       "      <td>8</td>\n",
       "      <td>0.0</td>\n",
       "      <td>0.2</td>\n",
       "      <td>5.3096</td>\n",
       "      <td>0.0303</td>\n",
       "      <td>0.2508</td>\n",
       "      <td>10.3684</td>\n",
       "      <td>True</td>\n",
       "    </tr>\n",
       "    <tr>\n",
       "      <td>9</td>\n",
       "      <td>0.0</td>\n",
       "      <td>0.25</td>\n",
       "      <td>6.525</td>\n",
       "      <td>0.0023</td>\n",
       "      <td>1.3647</td>\n",
       "      <td>11.6852</td>\n",
       "      <td>True</td>\n",
       "    </tr>\n",
       "    <tr>\n",
       "      <td>10</td>\n",
       "      <td>0.01</td>\n",
       "      <td>0.02</td>\n",
       "      <td>0.0</td>\n",
       "      <td>0.9</td>\n",
       "      <td>-74.2101</td>\n",
       "      <td>74.2101</td>\n",
       "      <td>False</td>\n",
       "    </tr>\n",
       "    <tr>\n",
       "      <td>11</td>\n",
       "      <td>0.01</td>\n",
       "      <td>0.03</td>\n",
       "      <td>-0.3333</td>\n",
       "      <td>0.9</td>\n",
       "      <td>-70.2993</td>\n",
       "      <td>69.6326</td>\n",
       "      <td>False</td>\n",
       "    </tr>\n",
       "    <tr>\n",
       "      <td>12</td>\n",
       "      <td>0.01</td>\n",
       "      <td>0.04</td>\n",
       "      <td>-1.0</td>\n",
       "      <td>0.9</td>\n",
       "      <td>-86.6905</td>\n",
       "      <td>84.6905</td>\n",
       "      <td>False</td>\n",
       "    </tr>\n",
       "    <tr>\n",
       "      <td>13</td>\n",
       "      <td>0.01</td>\n",
       "      <td>0.05</td>\n",
       "      <td>26.0108</td>\n",
       "      <td>0.9</td>\n",
       "      <td>-34.745</td>\n",
       "      <td>86.7667</td>\n",
       "      <td>False</td>\n",
       "    </tr>\n",
       "    <tr>\n",
       "      <td>14</td>\n",
       "      <td>0.01</td>\n",
       "      <td>0.06</td>\n",
       "      <td>0.0</td>\n",
       "      <td>0.9</td>\n",
       "      <td>-85.6905</td>\n",
       "      <td>85.6905</td>\n",
       "      <td>False</td>\n",
       "    </tr>\n",
       "    <tr>\n",
       "      <td>15</td>\n",
       "      <td>0.01</td>\n",
       "      <td>0.1</td>\n",
       "      <td>23.237</td>\n",
       "      <td>0.9</td>\n",
       "      <td>-37.5302</td>\n",
       "      <td>84.0042</td>\n",
       "      <td>False</td>\n",
       "    </tr>\n",
       "    <tr>\n",
       "      <td>16</td>\n",
       "      <td>0.01</td>\n",
       "      <td>0.15</td>\n",
       "      <td>26.3822</td>\n",
       "      <td>0.9</td>\n",
       "      <td>-34.4028</td>\n",
       "      <td>87.1671</td>\n",
       "      <td>False</td>\n",
       "    </tr>\n",
       "    <tr>\n",
       "      <td>17</td>\n",
       "      <td>0.01</td>\n",
       "      <td>0.2</td>\n",
       "      <td>25.0248</td>\n",
       "      <td>0.9</td>\n",
       "      <td>-35.7554</td>\n",
       "      <td>85.805</td>\n",
       "      <td>False</td>\n",
       "    </tr>\n",
       "    <tr>\n",
       "      <td>18</td>\n",
       "      <td>0.01</td>\n",
       "      <td>0.25</td>\n",
       "      <td>26.2403</td>\n",
       "      <td>0.9</td>\n",
       "      <td>-34.5485</td>\n",
       "      <td>87.029</td>\n",
       "      <td>False</td>\n",
       "    </tr>\n",
       "    <tr>\n",
       "      <td>19</td>\n",
       "      <td>0.02</td>\n",
       "      <td>0.03</td>\n",
       "      <td>-0.3333</td>\n",
       "      <td>0.9</td>\n",
       "      <td>-55.6463</td>\n",
       "      <td>54.9796</td>\n",
       "      <td>False</td>\n",
       "    </tr>\n",
       "    <tr>\n",
       "      <td>20</td>\n",
       "      <td>0.02</td>\n",
       "      <td>0.04</td>\n",
       "      <td>-1.0</td>\n",
       "      <td>0.9</td>\n",
       "      <td>-75.2101</td>\n",
       "      <td>73.2101</td>\n",
       "      <td>False</td>\n",
       "    </tr>\n",
       "    <tr>\n",
       "      <td>21</td>\n",
       "      <td>0.02</td>\n",
       "      <td>0.05</td>\n",
       "      <td>26.0108</td>\n",
       "      <td>0.6622</td>\n",
       "      <td>-17.0654</td>\n",
       "      <td>69.087</td>\n",
       "      <td>False</td>\n",
       "    </tr>\n",
       "    <tr>\n",
       "      <td>22</td>\n",
       "      <td>0.02</td>\n",
       "      <td>0.06</td>\n",
       "      <td>0.0</td>\n",
       "      <td>0.9</td>\n",
       "      <td>-74.2101</td>\n",
       "      <td>74.2101</td>\n",
       "      <td>False</td>\n",
       "    </tr>\n",
       "    <tr>\n",
       "      <td>23</td>\n",
       "      <td>0.02</td>\n",
       "      <td>0.1</td>\n",
       "      <td>23.237</td>\n",
       "      <td>0.7914</td>\n",
       "      <td>-19.8552</td>\n",
       "      <td>66.3292</td>\n",
       "      <td>False</td>\n",
       "    </tr>\n",
       "    <tr>\n",
       "      <td>24</td>\n",
       "      <td>0.02</td>\n",
       "      <td>0.15</td>\n",
       "      <td>26.3822</td>\n",
       "      <td>0.6461</td>\n",
       "      <td>-16.7351</td>\n",
       "      <td>69.4994</td>\n",
       "      <td>False</td>\n",
       "    </tr>\n",
       "    <tr>\n",
       "      <td>25</td>\n",
       "      <td>0.02</td>\n",
       "      <td>0.2</td>\n",
       "      <td>25.0248</td>\n",
       "      <td>0.7089</td>\n",
       "      <td>-18.0857</td>\n",
       "      <td>68.1354</td>\n",
       "      <td>False</td>\n",
       "    </tr>\n",
       "    <tr>\n",
       "      <td>26</td>\n",
       "      <td>0.02</td>\n",
       "      <td>0.25</td>\n",
       "      <td>26.2403</td>\n",
       "      <td>0.6528</td>\n",
       "      <td>-16.8823</td>\n",
       "      <td>69.3628</td>\n",
       "      <td>False</td>\n",
       "    </tr>\n",
       "    <tr>\n",
       "      <td>27</td>\n",
       "      <td>0.03</td>\n",
       "      <td>0.04</td>\n",
       "      <td>-0.6667</td>\n",
       "      <td>0.9</td>\n",
       "      <td>-70.6326</td>\n",
       "      <td>69.2993</td>\n",
       "      <td>False</td>\n",
       "    </tr>\n",
       "    <tr>\n",
       "      <td>28</td>\n",
       "      <td>0.03</td>\n",
       "      <td>0.05</td>\n",
       "      <td>26.3441</td>\n",
       "      <td>0.3639</td>\n",
       "      <td>-8.9214</td>\n",
       "      <td>61.6096</td>\n",
       "      <td>False</td>\n",
       "    </tr>\n",
       "    <tr>\n",
       "      <td>29</td>\n",
       "      <td>0.03</td>\n",
       "      <td>0.06</td>\n",
       "      <td>0.3333</td>\n",
       "      <td>0.9</td>\n",
       "      <td>-69.6326</td>\n",
       "      <td>70.2993</td>\n",
       "      <td>False</td>\n",
       "    </tr>\n",
       "    <tr>\n",
       "      <td>30</td>\n",
       "      <td>0.03</td>\n",
       "      <td>0.1</td>\n",
       "      <td>23.5703</td>\n",
       "      <td>0.5338</td>\n",
       "      <td>-11.7147</td>\n",
       "      <td>58.8553</td>\n",
       "      <td>False</td>\n",
       "    </tr>\n",
       "    <tr>\n",
       "      <td>31</td>\n",
       "      <td>0.03</td>\n",
       "      <td>0.15</td>\n",
       "      <td>26.7155</td>\n",
       "      <td>0.3436</td>\n",
       "      <td>-8.6001</td>\n",
       "      <td>62.0311</td>\n",
       "      <td>False</td>\n",
       "    </tr>\n",
       "    <tr>\n",
       "      <td>32</td>\n",
       "      <td>0.03</td>\n",
       "      <td>0.2</td>\n",
       "      <td>25.3582</td>\n",
       "      <td>0.428</td>\n",
       "      <td>-9.9492</td>\n",
       "      <td>60.6656</td>\n",
       "      <td>False</td>\n",
       "    </tr>\n",
       "    <tr>\n",
       "      <td>33</td>\n",
       "      <td>0.03</td>\n",
       "      <td>0.25</td>\n",
       "      <td>26.5736</td>\n",
       "      <td>0.3525</td>\n",
       "      <td>-8.7485</td>\n",
       "      <td>61.8957</td>\n",
       "      <td>False</td>\n",
       "    </tr>\n",
       "    <tr>\n",
       "      <td>34</td>\n",
       "      <td>0.04</td>\n",
       "      <td>0.05</td>\n",
       "      <td>27.0108</td>\n",
       "      <td>0.9</td>\n",
       "      <td>-33.745</td>\n",
       "      <td>87.7667</td>\n",
       "      <td>False</td>\n",
       "    </tr>\n",
       "    <tr>\n",
       "      <td>35</td>\n",
       "      <td>0.04</td>\n",
       "      <td>0.06</td>\n",
       "      <td>1.0</td>\n",
       "      <td>0.9</td>\n",
       "      <td>-84.6905</td>\n",
       "      <td>86.6905</td>\n",
       "      <td>False</td>\n",
       "    </tr>\n",
       "    <tr>\n",
       "      <td>36</td>\n",
       "      <td>0.04</td>\n",
       "      <td>0.1</td>\n",
       "      <td>24.237</td>\n",
       "      <td>0.9</td>\n",
       "      <td>-36.5302</td>\n",
       "      <td>85.0042</td>\n",
       "      <td>False</td>\n",
       "    </tr>\n",
       "    <tr>\n",
       "      <td>37</td>\n",
       "      <td>0.04</td>\n",
       "      <td>0.15</td>\n",
       "      <td>27.3822</td>\n",
       "      <td>0.9</td>\n",
       "      <td>-33.4028</td>\n",
       "      <td>88.1671</td>\n",
       "      <td>False</td>\n",
       "    </tr>\n",
       "    <tr>\n",
       "      <td>38</td>\n",
       "      <td>0.04</td>\n",
       "      <td>0.2</td>\n",
       "      <td>26.0248</td>\n",
       "      <td>0.9</td>\n",
       "      <td>-34.7554</td>\n",
       "      <td>86.805</td>\n",
       "      <td>False</td>\n",
       "    </tr>\n",
       "    <tr>\n",
       "      <td>39</td>\n",
       "      <td>0.04</td>\n",
       "      <td>0.25</td>\n",
       "      <td>27.2403</td>\n",
       "      <td>0.9</td>\n",
       "      <td>-33.5485</td>\n",
       "      <td>88.029</td>\n",
       "      <td>False</td>\n",
       "    </tr>\n",
       "    <tr>\n",
       "      <td>40</td>\n",
       "      <td>0.05</td>\n",
       "      <td>0.06</td>\n",
       "      <td>-26.0108</td>\n",
       "      <td>0.9</td>\n",
       "      <td>-86.7667</td>\n",
       "      <td>34.745</td>\n",
       "      <td>False</td>\n",
       "    </tr>\n",
       "    <tr>\n",
       "      <td>41</td>\n",
       "      <td>0.05</td>\n",
       "      <td>0.1</td>\n",
       "      <td>-2.7738</td>\n",
       "      <td>0.9</td>\n",
       "      <td>-9.1822</td>\n",
       "      <td>3.6346</td>\n",
       "      <td>False</td>\n",
       "    </tr>\n",
       "    <tr>\n",
       "      <td>42</td>\n",
       "      <td>0.05</td>\n",
       "      <td>0.15</td>\n",
       "      <td>0.3714</td>\n",
       "      <td>0.9</td>\n",
       "      <td>-6.2036</td>\n",
       "      <td>6.9463</td>\n",
       "      <td>False</td>\n",
       "    </tr>\n",
       "    <tr>\n",
       "      <td>43</td>\n",
       "      <td>0.05</td>\n",
       "      <td>0.2</td>\n",
       "      <td>-0.986</td>\n",
       "      <td>0.9</td>\n",
       "      <td>-7.5166</td>\n",
       "      <td>5.5447</td>\n",
       "      <td>False</td>\n",
       "    </tr>\n",
       "    <tr>\n",
       "      <td>44</td>\n",
       "      <td>0.05</td>\n",
       "      <td>0.25</td>\n",
       "      <td>0.2294</td>\n",
       "      <td>0.9</td>\n",
       "      <td>-6.3801</td>\n",
       "      <td>6.839</td>\n",
       "      <td>False</td>\n",
       "    </tr>\n",
       "    <tr>\n",
       "      <td>45</td>\n",
       "      <td>0.06</td>\n",
       "      <td>0.1</td>\n",
       "      <td>23.237</td>\n",
       "      <td>0.9</td>\n",
       "      <td>-37.5302</td>\n",
       "      <td>84.0042</td>\n",
       "      <td>False</td>\n",
       "    </tr>\n",
       "    <tr>\n",
       "      <td>46</td>\n",
       "      <td>0.06</td>\n",
       "      <td>0.15</td>\n",
       "      <td>26.3822</td>\n",
       "      <td>0.9</td>\n",
       "      <td>-34.4028</td>\n",
       "      <td>87.1671</td>\n",
       "      <td>False</td>\n",
       "    </tr>\n",
       "    <tr>\n",
       "      <td>47</td>\n",
       "      <td>0.06</td>\n",
       "      <td>0.2</td>\n",
       "      <td>25.0248</td>\n",
       "      <td>0.9</td>\n",
       "      <td>-35.7554</td>\n",
       "      <td>85.805</td>\n",
       "      <td>False</td>\n",
       "    </tr>\n",
       "    <tr>\n",
       "      <td>48</td>\n",
       "      <td>0.06</td>\n",
       "      <td>0.25</td>\n",
       "      <td>26.2403</td>\n",
       "      <td>0.9</td>\n",
       "      <td>-34.5485</td>\n",
       "      <td>87.029</td>\n",
       "      <td>False</td>\n",
       "    </tr>\n",
       "    <tr>\n",
       "      <td>49</td>\n",
       "      <td>0.1</td>\n",
       "      <td>0.15</td>\n",
       "      <td>3.1452</td>\n",
       "      <td>0.9</td>\n",
       "      <td>-3.5337</td>\n",
       "      <td>9.824</td>\n",
       "      <td>False</td>\n",
       "    </tr>\n",
       "    <tr>\n",
       "      <td>50</td>\n",
       "      <td>0.1</td>\n",
       "      <td>0.2</td>\n",
       "      <td>1.7879</td>\n",
       "      <td>0.9</td>\n",
       "      <td>-4.8474</td>\n",
       "      <td>8.4231</td>\n",
       "      <td>False</td>\n",
       "    </tr>\n",
       "    <tr>\n",
       "      <td>51</td>\n",
       "      <td>0.1</td>\n",
       "      <td>0.25</td>\n",
       "      <td>3.0033</td>\n",
       "      <td>0.9</td>\n",
       "      <td>-3.7096</td>\n",
       "      <td>9.7161</td>\n",
       "      <td>False</td>\n",
       "    </tr>\n",
       "    <tr>\n",
       "      <td>52</td>\n",
       "      <td>0.15</td>\n",
       "      <td>0.2</td>\n",
       "      <td>-1.3573</td>\n",
       "      <td>0.9</td>\n",
       "      <td>-8.1536</td>\n",
       "      <td>5.4389</td>\n",
       "      <td>False</td>\n",
       "    </tr>\n",
       "    <tr>\n",
       "      <td>53</td>\n",
       "      <td>0.15</td>\n",
       "      <td>0.25</td>\n",
       "      <td>-0.1419</td>\n",
       "      <td>0.9</td>\n",
       "      <td>-7.014</td>\n",
       "      <td>6.7302</td>\n",
       "      <td>False</td>\n",
       "    </tr>\n",
       "    <tr>\n",
       "      <td>54</td>\n",
       "      <td>0.2</td>\n",
       "      <td>0.25</td>\n",
       "      <td>1.2154</td>\n",
       "      <td>0.9</td>\n",
       "      <td>-5.6143</td>\n",
       "      <td>8.0451</td>\n",
       "      <td>False</td>\n",
       "    </tr>\n",
       "  </tbody>\n",
       "</table>\n",
       "</div>"
      ],
      "text/plain": [
       "   group1 group2  meandiff   p-adj     lower    upper reject\n",
       "0     0.0   0.01  -19.7153     0.9  -80.3306  40.9001  False\n",
       "1     0.0   0.02  -19.7153     0.9   -62.593  23.1625  False\n",
       "2     0.0   0.03  -20.0486   0.725  -55.0714  14.9742  False\n",
       "3     0.0   0.04  -20.7153     0.9  -81.3306  39.9001  False\n",
       "4     0.0   0.05    6.2955  0.0011    1.5381   11.053   True\n",
       "5     0.0   0.06  -19.7153     0.9  -80.3306  40.9001  False\n",
       "6     0.0    0.1    3.5217  0.4269   -1.3783   8.4217  False\n",
       "7     0.0   0.15    6.6669  0.0014     1.551  11.7828   True\n",
       "8     0.0    0.2    5.3096  0.0303    0.2508  10.3684   True\n",
       "9     0.0   0.25     6.525  0.0023    1.3647  11.6852   True\n",
       "10   0.01   0.02       0.0     0.9  -74.2101  74.2101  False\n",
       "11   0.01   0.03   -0.3333     0.9  -70.2993  69.6326  False\n",
       "12   0.01   0.04      -1.0     0.9  -86.6905  84.6905  False\n",
       "13   0.01   0.05   26.0108     0.9   -34.745  86.7667  False\n",
       "14   0.01   0.06       0.0     0.9  -85.6905  85.6905  False\n",
       "15   0.01    0.1    23.237     0.9  -37.5302  84.0042  False\n",
       "16   0.01   0.15   26.3822     0.9  -34.4028  87.1671  False\n",
       "17   0.01    0.2   25.0248     0.9  -35.7554   85.805  False\n",
       "18   0.01   0.25   26.2403     0.9  -34.5485   87.029  False\n",
       "19   0.02   0.03   -0.3333     0.9  -55.6463  54.9796  False\n",
       "20   0.02   0.04      -1.0     0.9  -75.2101  73.2101  False\n",
       "21   0.02   0.05   26.0108  0.6622  -17.0654   69.087  False\n",
       "22   0.02   0.06       0.0     0.9  -74.2101  74.2101  False\n",
       "23   0.02    0.1    23.237  0.7914  -19.8552  66.3292  False\n",
       "24   0.02   0.15   26.3822  0.6461  -16.7351  69.4994  False\n",
       "25   0.02    0.2   25.0248  0.7089  -18.0857  68.1354  False\n",
       "26   0.02   0.25   26.2403  0.6528  -16.8823  69.3628  False\n",
       "27   0.03   0.04   -0.6667     0.9  -70.6326  69.2993  False\n",
       "28   0.03   0.05   26.3441  0.3639   -8.9214  61.6096  False\n",
       "29   0.03   0.06    0.3333     0.9  -69.6326  70.2993  False\n",
       "30   0.03    0.1   23.5703  0.5338  -11.7147  58.8553  False\n",
       "31   0.03   0.15   26.7155  0.3436   -8.6001  62.0311  False\n",
       "32   0.03    0.2   25.3582   0.428   -9.9492  60.6656  False\n",
       "33   0.03   0.25   26.5736  0.3525   -8.7485  61.8957  False\n",
       "34   0.04   0.05   27.0108     0.9   -33.745  87.7667  False\n",
       "35   0.04   0.06       1.0     0.9  -84.6905  86.6905  False\n",
       "36   0.04    0.1    24.237     0.9  -36.5302  85.0042  False\n",
       "37   0.04   0.15   27.3822     0.9  -33.4028  88.1671  False\n",
       "38   0.04    0.2   26.0248     0.9  -34.7554   86.805  False\n",
       "39   0.04   0.25   27.2403     0.9  -33.5485   88.029  False\n",
       "40   0.05   0.06  -26.0108     0.9  -86.7667   34.745  False\n",
       "41   0.05    0.1   -2.7738     0.9   -9.1822   3.6346  False\n",
       "42   0.05   0.15    0.3714     0.9   -6.2036   6.9463  False\n",
       "43   0.05    0.2    -0.986     0.9   -7.5166   5.5447  False\n",
       "44   0.05   0.25    0.2294     0.9   -6.3801    6.839  False\n",
       "45   0.06    0.1    23.237     0.9  -37.5302  84.0042  False\n",
       "46   0.06   0.15   26.3822     0.9  -34.4028  87.1671  False\n",
       "47   0.06    0.2   25.0248     0.9  -35.7554   85.805  False\n",
       "48   0.06   0.25   26.2403     0.9  -34.5485   87.029  False\n",
       "49    0.1   0.15    3.1452     0.9   -3.5337    9.824  False\n",
       "50    0.1    0.2    1.7879     0.9   -4.8474   8.4231  False\n",
       "51    0.1   0.25    3.0033     0.9   -3.7096   9.7161  False\n",
       "52   0.15    0.2   -1.3573     0.9   -8.1536   5.4389  False\n",
       "53   0.15   0.25   -0.1419     0.9    -7.014   6.7302  False\n",
       "54    0.2   0.25    1.2154     0.9   -5.6143   8.0451  False"
      ]
     },
     "execution_count": 283,
     "metadata": {},
     "output_type": "execute_result"
    }
   ],
   "source": [
    "tukey_OQD = pd.DataFrame(data=model._results_table[1:], columns=model._results_table[0])\n",
    "# tukey_OQD.loc[tukey_OQD['reject'] == True]\n",
    "tukey_OQD"
   ]
  },
  {
   "cell_type": "markdown",
   "metadata": {},
   "source": [
    "### Conclusion 1"
   ]
  },
  {
   "cell_type": "markdown",
   "metadata": {},
   "source": [
    "The model produces pvalue(6.629e-11) < alpha, so we reject the null hypothesis. The cohen's D is 0.28 which shows a small effect that can not be seen by the naked eye. In a pairwise tukey comparism we found statistically significant comparism between 0 and each of 5, 15, 20 and 25% discount yield effect on quantity of products ordered."
   ]
  },
  {
   "cell_type": "markdown",
   "metadata": {},
   "source": [
    "## Hypothesis 2"
   ]
  },
  {
   "cell_type": "markdown",
   "metadata": {},
   "source": [
    "Does discount have statistically significance on sales revenue? If so, at what level(s) of discount?"
   ]
  },
  {
   "cell_type": "markdown",
   "metadata": {},
   "source": [
    "$H_0$: Discount has no effect on the sales revenue"
   ]
  },
  {
   "cell_type": "markdown",
   "metadata": {},
   "source": [
    "$H_0$: Discount has effect on the sales revenue"
   ]
  },
  {
   "cell_type": "markdown",
   "metadata": {},
   "source": [
    "### Experiment Design 2"
   ]
  },
  {
   "cell_type": "code",
   "execution_count": 284,
   "metadata": {
    "code_folding": []
   },
   "outputs": [
    {
     "data": {
      "text/html": [
       "<div>\n",
       "<style scoped>\n",
       "    .dataframe tbody tr th:only-of-type {\n",
       "        vertical-align: middle;\n",
       "    }\n",
       "\n",
       "    .dataframe tbody tr th {\n",
       "        vertical-align: top;\n",
       "    }\n",
       "\n",
       "    .dataframe thead th {\n",
       "        text-align: right;\n",
       "    }\n",
       "</style>\n",
       "<table border=\"1\" class=\"dataframe\">\n",
       "  <thead>\n",
       "    <tr style=\"text-align: right;\">\n",
       "      <th></th>\n",
       "      <th>UnitPrice</th>\n",
       "      <th>Quantity</th>\n",
       "      <th>Discount</th>\n",
       "      <th>Sales_revenue</th>\n",
       "    </tr>\n",
       "  </thead>\n",
       "  <tbody>\n",
       "    <tr>\n",
       "      <td>0</td>\n",
       "      <td>14.0</td>\n",
       "      <td>12</td>\n",
       "      <td>0.0</td>\n",
       "      <td>168.0</td>\n",
       "    </tr>\n",
       "    <tr>\n",
       "      <td>1</td>\n",
       "      <td>9.8</td>\n",
       "      <td>10</td>\n",
       "      <td>0.0</td>\n",
       "      <td>98.0</td>\n",
       "    </tr>\n",
       "    <tr>\n",
       "      <td>2</td>\n",
       "      <td>34.8</td>\n",
       "      <td>5</td>\n",
       "      <td>0.0</td>\n",
       "      <td>174.0</td>\n",
       "    </tr>\n",
       "    <tr>\n",
       "      <td>3</td>\n",
       "      <td>18.6</td>\n",
       "      <td>9</td>\n",
       "      <td>0.0</td>\n",
       "      <td>167.4</td>\n",
       "    </tr>\n",
       "    <tr>\n",
       "      <td>4</td>\n",
       "      <td>42.4</td>\n",
       "      <td>40</td>\n",
       "      <td>0.0</td>\n",
       "      <td>1696.0</td>\n",
       "    </tr>\n",
       "  </tbody>\n",
       "</table>\n",
       "</div>"
      ],
      "text/plain": [
       "   UnitPrice  Quantity  Discount  Sales_revenue\n",
       "0       14.0        12       0.0          168.0\n",
       "1        9.8        10       0.0           98.0\n",
       "2       34.8         5       0.0          174.0\n",
       "3       18.6         9       0.0          167.4\n",
       "4       42.4        40       0.0         1696.0"
      ]
     },
     "execution_count": 284,
     "metadata": {},
     "output_type": "execute_result"
    }
   ],
   "source": [
    "#querying the database\n",
    "cur.execute(\"\"\"SELECT Unitprice, Quantity, Discount, Unitprice * Quantity as Sales_revenue\n",
    "FROM OrderDetail \"\"\")\n",
    "#Storing results in dataframe\n",
    "df = pd.DataFrame(cur.fetchall())\n",
    "df.columns = [x[0] for x in cur.description]\n",
    "df.head()"
   ]
  },
  {
   "cell_type": "code",
   "execution_count": null,
   "metadata": {},
   "outputs": [],
   "source": []
  },
  {
   "cell_type": "code",
   "execution_count": 285,
   "metadata": {},
   "outputs": [
    {
     "data": {
      "image/png": "[encoded data removed]",
      "text/plain": [
       "<Figure size 864x720 with 2 Axes>"
      ]
     },
     "metadata": {},
     "output_type": "display_data"
    }
   ],
   "source": [
    "import matplotlib.pyplot as plt\n",
    "import seaborn as sns\n",
    "#dist plot of Sales Revenue values\n",
    "plt.subplot(211)\n",
    "sns.distplot(df['Sales_revenue'], hist='density')\n",
    "plt.title('Distribution of Sales_revenue', fontsize=16)\n",
    "plt.xlabel('Sales_revenue', fontsize=16)\n",
    "#dist plot of discount values\n",
    "plt.subplot(212)\n",
    "sns.distplot(df['Discount'], hist='density')\n",
    "plt.title('Distribution of Discount', fontsize=16)\n",
    "plt.xlabel('Discount', fontsize=16)\n",
    "plt.tight_layout()\n",
    "plt.show()"
   ]
  },
  {
   "cell_type": "markdown",
   "metadata": {},
   "source": [
    "Creating groups"
   ]
  },
  {
   "cell_type": "code",
   "execution_count": 286,
   "metadata": {},
   "outputs": [],
   "source": [
    "#Creating the groups\n",
    "control1 = df[df['Discount'] == 0]\n",
    "ctrl1 = control1['Sales_revenue']\n",
    "\n",
    "experiment1 = df[df['Discount'] !=0]\n",
    "exp1 = experiment1['Sales_revenue']\n"
   ]
  },
  {
   "cell_type": "markdown",
   "metadata": {},
   "source": [
    "### Assumptions"
   ]
  },
  {
   "cell_type": "code",
   "execution_count": 287,
   "metadata": {},
   "outputs": [
    {
     "data": {
      "image/png": "[encoded data removed]",
      "text/plain": [
       "<Figure size 1440x720 with 1 Axes>"
      ]
     },
     "metadata": {},
     "output_type": "display_data"
    }
   ],
   "source": [
    "import scipy.stats as stat\n",
    "\n",
    "# visual check for normality\n",
    "plt.figure(figsize=(20, 10))\n",
    "sns.distplot(ctrl1, label='Control1')\n",
    "sns.distplot(exp1, label='Experiment1',kde=True, hist=True )\n",
    "plt.title('Visual Check for Normality', fontsize=25)\n",
    "plt.xlabel('Sales_revenue', fontsize=20)\n",
    "plt.legend(fontsize=55);"
   ]
  },
  {
   "cell_type": "code",
   "execution_count": 288,
   "metadata": {},
   "outputs": [
    {
     "name": "stdout",
     "output_type": "stream",
     "text": [
      "NormaltestResult(statistic=1762.622893841281, pvalue=0.0)\n",
      "NormaltestResult(statistic=1026.5610842353467, pvalue=1.216446154957058e-223)\n"
     ]
    }
   ],
   "source": [
    "print(stat.normaltest(ctrl1))\n",
    "print(stat.normaltest(exp1))"
   ]
  },
  {
   "cell_type": "code",
   "execution_count": null,
   "metadata": {},
   "outputs": [],
   "source": []
  },
  {
   "cell_type": "markdown",
   "metadata": {},
   "source": [
    "### Mann-Whitney U-test"
   ]
  },
  {
   "cell_type": "code",
   "execution_count": 289,
   "metadata": {},
   "outputs": [
    {
     "data": {
      "text/plain": [
       "MannwhitneyuResult(statistic=481980.5, pvalue=3.526900409461034e-07)"
      ]
     },
     "execution_count": 289,
     "metadata": {},
     "output_type": "execute_result"
    }
   ],
   "source": [
    "stat.mannwhitneyu(ctrl1, exp1)"
   ]
  },
  {
   "cell_type": "markdown",
   "metadata": {},
   "source": [
    "The model produces pvalue(3.527e-07) < alpha, so we reject the null hypothesis."
   ]
  },
  {
   "cell_type": "markdown",
   "metadata": {},
   "source": [
    "### Effective size"
   ]
  },
  {
   "cell_type": "code",
   "execution_count": 290,
   "metadata": {},
   "outputs": [
    {
     "data": {
      "text/plain": [
       "0.14550532043633307"
      ]
     },
     "execution_count": 290,
     "metadata": {},
     "output_type": "execute_result"
    }
   ],
   "source": [
    "abs(Cohen_d(ctrl1, exp1))"
   ]
  },
  {
   "cell_type": "markdown",
   "metadata": {},
   "source": [
    "conclusion for the 2 test"
   ]
  },
  {
   "cell_type": "markdown",
   "metadata": {},
   "source": [
    "### Tukey test"
   ]
  },
  {
   "cell_type": "code",
   "execution_count": 291,
   "metadata": {},
   "outputs": [
    {
     "data": {
      "text/html": [
       "<table class=\"simpletable\">\n",
       "<caption>Multiple Comparison of Means - Tukey HSD, FWER=0.05</caption>\n",
       "<tr>\n",
       "  <th>group1</th> <th>group2</th> <th>meandiff</th>   <th>p-adj</th>    <th>lower</th>     <th>upper</th>   <th>reject</th>\n",
       "</tr>\n",
       "<tr>\n",
       "    <td>0.0</td>   <td>0.01</td>  <td>-540.0065</td>   <td>0.9</td>   <td>-3870.951</td> <td>2790.9379</td>  <td>False</td>\n",
       "</tr>\n",
       "<tr>\n",
       "    <td>0.0</td>   <td>0.02</td>  <td>-539.5065</td>   <td>0.9</td>  <td>-2895.7333</td> <td>1816.7202</td>  <td>False</td>\n",
       "</tr>\n",
       "<tr>\n",
       "    <td>0.0</td>   <td>0.03</td>  <td>-528.4565</td>   <td>0.9</td>  <td>-2453.0368</td> <td>1396.1237</td>  <td>False</td>\n",
       "</tr>\n",
       "<tr>\n",
       "    <td>0.0</td>   <td>0.04</td>  <td>-489.0065</td>   <td>0.9</td>   <td>-3819.951</td> <td>2841.9379</td>  <td>False</td>\n",
       "</tr>\n",
       "<tr>\n",
       "    <td>0.0</td>   <td>0.05</td>  <td>269.9216</td>  <td>0.0362</td>   <td>8.4896</td>   <td>531.3536</td>   <td>True</td> \n",
       "</tr>\n",
       "<tr>\n",
       "    <td>0.0</td>   <td>0.06</td>  <td>-502.0065</td>   <td>0.9</td>   <td>-3832.951</td> <td>2828.9379</td>  <td>False</td>\n",
       "</tr>\n",
       "<tr>\n",
       "    <td>0.0</td>    <td>0.1</td>   <td>17.6565</td>    <td>0.9</td>   <td>-251.6084</td> <td>286.9214</td>   <td>False</td>\n",
       "</tr>\n",
       "<tr>\n",
       "    <td>0.0</td>   <td>0.15</td>   <td>85.716</td>     <td>0.9</td>   <td>-195.4149</td> <td>366.8469</td>   <td>False</td>\n",
       "</tr>\n",
       "<tr>\n",
       "    <td>0.0</td>    <td>0.2</td>  <td>122.3933</td>    <td>0.9</td>   <td>-155.5997</td> <td>400.3864</td>   <td>False</td>\n",
       "</tr>\n",
       "<tr>\n",
       "    <td>0.0</td>   <td>0.25</td>  <td>286.6044</td>   <td>0.045</td>   <td>3.0375</td>   <td>570.1714</td>   <td>True</td> \n",
       "</tr>\n",
       "<tr>\n",
       "   <td>0.01</td>   <td>0.02</td>     <td>0.5</td>      <td>0.9</td>  <td>-4077.5092</td> <td>4078.5092</td>  <td>False</td>\n",
       "</tr>\n",
       "<tr>\n",
       "   <td>0.01</td>   <td>0.03</td>    <td>11.55</td>     <td>0.9</td>  <td>-3833.2339</td> <td>3856.3339</td>  <td>False</td>\n",
       "</tr>\n",
       "<tr>\n",
       "   <td>0.01</td>   <td>0.04</td>    <td>51.0</td>      <td>0.9</td>  <td>-4657.8794</td> <td>4759.8794</td>  <td>False</td>\n",
       "</tr>\n",
       "<tr>\n",
       "   <td>0.01</td>   <td>0.05</td>  <td>809.9282</td>    <td>0.9</td>  <td>-2528.7394</td> <td>4148.5957</td>  <td>False</td>\n",
       "</tr>\n",
       "<tr>\n",
       "   <td>0.01</td>   <td>0.06</td>    <td>38.0</td>      <td>0.9</td>  <td>-4670.8794</td> <td>4746.8794</td>  <td>False</td>\n",
       "</tr>\n",
       "<tr>\n",
       "   <td>0.01</td>    <td>0.1</td>  <td>557.6631</td>    <td>0.9</td>   <td>-2781.627</td> <td>3896.9531</td>  <td>False</td>\n",
       "</tr>\n",
       "<tr>\n",
       "   <td>0.01</td>   <td>0.15</td>  <td>625.7225</td>    <td>0.9</td>  <td>-2714.5453</td> <td>3965.9904</td>  <td>False</td>\n",
       "</tr>\n",
       "<tr>\n",
       "   <td>0.01</td>    <td>0.2</td>  <td>662.3999</td>    <td>0.9</td>  <td>-2677.6053</td> <td>4002.4051</td>  <td>False</td>\n",
       "</tr>\n",
       "<tr>\n",
       "   <td>0.01</td>   <td>0.25</td>   <td>826.611</td>    <td>0.9</td>  <td>-2513.8627</td> <td>4167.0847</td>  <td>False</td>\n",
       "</tr>\n",
       "<tr>\n",
       "   <td>0.02</td>   <td>0.03</td>    <td>11.05</td>     <td>0.9</td>  <td>-3028.5186</td> <td>3050.6186</td>  <td>False</td>\n",
       "</tr>\n",
       "<tr>\n",
       "   <td>0.02</td>   <td>0.04</td>    <td>50.5</td>      <td>0.9</td>  <td>-4027.5092</td> <td>4128.5092</td>  <td>False</td>\n",
       "</tr>\n",
       "<tr>\n",
       "   <td>0.02</td>   <td>0.05</td>  <td>809.4282</td>    <td>0.9</td>   <td>-1557.704</td> <td>3176.5604</td>  <td>False</td>\n",
       "</tr>\n",
       "<tr>\n",
       "   <td>0.02</td>   <td>0.06</td>    <td>37.5</td>      <td>0.9</td>  <td>-4040.5092</td> <td>4115.5092</td>  <td>False</td>\n",
       "</tr>\n",
       "<tr>\n",
       "   <td>0.02</td>    <td>0.1</td>  <td>557.1631</td>    <td>0.9</td>   <td>-1810.847</td> <td>2925.1731</td>  <td>False</td>\n",
       "</tr>\n",
       "<tr>\n",
       "   <td>0.02</td>   <td>0.15</td>  <td>625.2225</td>    <td>0.9</td>  <td>-1744.1661</td> <td>2994.6112</td>  <td>False</td>\n",
       "</tr>\n",
       "<tr>\n",
       "   <td>0.02</td>    <td>0.2</td>  <td>661.8999</td>    <td>0.9</td>  <td>-1707.1185</td> <td>3030.9183</td>  <td>False</td>\n",
       "</tr>\n",
       "<tr>\n",
       "   <td>0.02</td>   <td>0.25</td>   <td>826.111</td>    <td>0.9</td>   <td>-1543.568</td> <td>3195.7899</td>  <td>False</td>\n",
       "</tr>\n",
       "<tr>\n",
       "   <td>0.03</td>   <td>0.04</td>    <td>39.45</td>     <td>0.9</td>  <td>-3805.3339</td> <td>3884.2339</td>  <td>False</td>\n",
       "</tr>\n",
       "<tr>\n",
       "   <td>0.03</td>   <td>0.05</td>  <td>798.3782</td>    <td>0.9</td>  <td>-1139.5381</td> <td>2736.2944</td>  <td>False</td>\n",
       "</tr>\n",
       "<tr>\n",
       "   <td>0.03</td>   <td>0.06</td>    <td>26.45</td>     <td>0.9</td>  <td>-3818.3339</td> <td>3871.2339</td>  <td>False</td>\n",
       "</tr>\n",
       "<tr>\n",
       "   <td>0.03</td>    <td>0.1</td>  <td>546.1131</td>    <td>0.9</td>  <td>-1392.8754</td> <td>2485.1015</td>  <td>False</td>\n",
       "</tr>\n",
       "<tr>\n",
       "   <td>0.03</td>   <td>0.15</td>  <td>614.1725</td>    <td>0.9</td>  <td>-1326.4993</td> <td>2554.8444</td>  <td>False</td>\n",
       "</tr>\n",
       "<tr>\n",
       "   <td>0.03</td>    <td>0.2</td>  <td>650.8499</td>    <td>0.9</td>  <td>-1289.3699</td> <td>2591.0697</td>  <td>False</td>\n",
       "</tr>\n",
       "<tr>\n",
       "   <td>0.03</td>   <td>0.25</td>   <td>815.061</td>    <td>0.9</td>  <td>-1125.9653</td> <td>2756.0872</td>  <td>False</td>\n",
       "</tr>\n",
       "<tr>\n",
       "   <td>0.04</td>   <td>0.05</td>  <td>758.9282</td>    <td>0.9</td>  <td>-2579.7394</td> <td>4097.5957</td>  <td>False</td>\n",
       "</tr>\n",
       "<tr>\n",
       "   <td>0.04</td>   <td>0.06</td>    <td>-13.0</td>     <td>0.9</td>  <td>-4721.8794</td> <td>4695.8794</td>  <td>False</td>\n",
       "</tr>\n",
       "<tr>\n",
       "   <td>0.04</td>    <td>0.1</td>  <td>506.6631</td>    <td>0.9</td>   <td>-2832.627</td> <td>3845.9531</td>  <td>False</td>\n",
       "</tr>\n",
       "<tr>\n",
       "   <td>0.04</td>   <td>0.15</td>  <td>574.7225</td>    <td>0.9</td>  <td>-2765.5453</td> <td>3914.9904</td>  <td>False</td>\n",
       "</tr>\n",
       "<tr>\n",
       "   <td>0.04</td>    <td>0.2</td>  <td>611.3999</td>    <td>0.9</td>  <td>-2728.6053</td> <td>3951.4051</td>  <td>False</td>\n",
       "</tr>\n",
       "<tr>\n",
       "   <td>0.04</td>   <td>0.25</td>   <td>775.611</td>    <td>0.9</td>  <td>-2564.8627</td> <td>4116.0847</td>  <td>False</td>\n",
       "</tr>\n",
       "<tr>\n",
       "   <td>0.05</td>   <td>0.06</td>  <td>-771.9282</td>   <td>0.9</td>  <td>-4110.5957</td> <td>2566.7394</td>  <td>False</td>\n",
       "</tr>\n",
       "<tr>\n",
       "   <td>0.05</td>    <td>0.1</td>  <td>-252.2651</td> <td>0.4322</td>  <td>-604.4212</td>  <td>99.891</td>    <td>False</td>\n",
       "</tr>\n",
       "<tr>\n",
       "   <td>0.05</td>   <td>0.15</td>  <td>-184.2056</td> <td>0.8503</td>  <td>-545.5156</td> <td>177.1043</td>   <td>False</td>\n",
       "</tr>\n",
       "<tr>\n",
       "   <td>0.05</td>    <td>0.2</td>  <td>-147.5283</td>   <td>0.9</td>   <td>-506.4021</td> <td>211.3456</td>   <td>False</td>\n",
       "</tr>\n",
       "<tr>\n",
       "   <td>0.05</td>   <td>0.25</td>   <td>16.6828</td>    <td>0.9</td>   <td>-346.5258</td> <td>379.8915</td>   <td>False</td>\n",
       "</tr>\n",
       "<tr>\n",
       "   <td>0.06</td>    <td>0.1</td>  <td>519.6631</td>    <td>0.9</td>   <td>-2819.627</td> <td>3858.9531</td>  <td>False</td>\n",
       "</tr>\n",
       "<tr>\n",
       "   <td>0.06</td>   <td>0.15</td>  <td>587.7225</td>    <td>0.9</td>  <td>-2752.5453</td> <td>3927.9904</td>  <td>False</td>\n",
       "</tr>\n",
       "<tr>\n",
       "   <td>0.06</td>    <td>0.2</td>  <td>624.3999</td>    <td>0.9</td>  <td>-2715.6053</td> <td>3964.4051</td>  <td>False</td>\n",
       "</tr>\n",
       "<tr>\n",
       "   <td>0.06</td>   <td>0.25</td>   <td>788.611</td>    <td>0.9</td>  <td>-2551.8627</td> <td>4129.0847</td>  <td>False</td>\n",
       "</tr>\n",
       "<tr>\n",
       "    <td>0.1</td>   <td>0.15</td>   <td>68.0595</td>    <td>0.9</td>   <td>-298.9579</td> <td>435.0769</td>   <td>False</td>\n",
       "</tr>\n",
       "<tr>\n",
       "    <td>0.1</td>    <td>0.2</td>  <td>104.7368</td>    <td>0.9</td>   <td>-259.8826</td> <td>469.3562</td>   <td>False</td>\n",
       "</tr>\n",
       "<tr>\n",
       "    <td>0.1</td>   <td>0.25</td>  <td>268.9479</td>  <td>0.4037</td>  <td>-99.9388</td>  <td>637.8346</td>   <td>False</td>\n",
       "</tr>\n",
       "<tr>\n",
       "   <td>0.15</td>    <td>0.2</td>   <td>36.6773</td>    <td>0.9</td>   <td>-336.7906</td> <td>410.1453</td>   <td>False</td>\n",
       "</tr>\n",
       "<tr>\n",
       "   <td>0.15</td>   <td>0.25</td>  <td>200.8884</td>   <td>0.806</td>  <td>-176.7469</td> <td>578.5237</td>   <td>False</td>\n",
       "</tr>\n",
       "<tr>\n",
       "    <td>0.2</td>   <td>0.25</td>  <td>164.2111</td>    <td>0.9</td>   <td>-211.0941</td> <td>539.5163</td>   <td>False</td>\n",
       "</tr>\n",
       "</table>"
      ],
      "text/plain": [
       "<class 'statsmodels.iolib.table.SimpleTable'>"
      ]
     },
     "execution_count": 291,
     "metadata": {},
     "output_type": "execute_result"
    }
   ],
   "source": [
    "data = df['Sales_revenue'].values\n",
    "labels = df['Discount'].values\n",
    "\n",
    "#Run Tukey test\n",
    "import statsmodels.api as sms\n",
    "model = sms.stats.multicomp.pairwise_tukeyhsd(data,labels)\n",
    "model.summary()\n"
   ]
  },
  {
   "cell_type": "code",
   "execution_count": 231,
   "metadata": {},
   "outputs": [
    {
     "data": {
      "text/html": [
       "<div>\n",
       "<style scoped>\n",
       "    .dataframe tbody tr th:only-of-type {\n",
       "        vertical-align: middle;\n",
       "    }\n",
       "\n",
       "    .dataframe tbody tr th {\n",
       "        vertical-align: top;\n",
       "    }\n",
       "\n",
       "    .dataframe thead th {\n",
       "        text-align: right;\n",
       "    }\n",
       "</style>\n",
       "<table border=\"1\" class=\"dataframe\">\n",
       "  <thead>\n",
       "    <tr style=\"text-align: right;\">\n",
       "      <th></th>\n",
       "      <th>group1</th>\n",
       "      <th>group2</th>\n",
       "      <th>meandiff</th>\n",
       "      <th>p-adj</th>\n",
       "      <th>lower</th>\n",
       "      <th>upper</th>\n",
       "      <th>reject</th>\n",
       "    </tr>\n",
       "  </thead>\n",
       "  <tbody>\n",
       "    <tr>\n",
       "      <td>0</td>\n",
       "      <td>0.0</td>\n",
       "      <td>0.01</td>\n",
       "      <td>-540.0065</td>\n",
       "      <td>0.9</td>\n",
       "      <td>-3870.951</td>\n",
       "      <td>2790.9379</td>\n",
       "      <td>False</td>\n",
       "    </tr>\n",
       "    <tr>\n",
       "      <td>1</td>\n",
       "      <td>0.0</td>\n",
       "      <td>0.02</td>\n",
       "      <td>-539.5065</td>\n",
       "      <td>0.9</td>\n",
       "      <td>-2895.7333</td>\n",
       "      <td>1816.7202</td>\n",
       "      <td>False</td>\n",
       "    </tr>\n",
       "    <tr>\n",
       "      <td>2</td>\n",
       "      <td>0.0</td>\n",
       "      <td>0.03</td>\n",
       "      <td>-528.4565</td>\n",
       "      <td>0.9</td>\n",
       "      <td>-2453.0368</td>\n",
       "      <td>1396.1237</td>\n",
       "      <td>False</td>\n",
       "    </tr>\n",
       "    <tr>\n",
       "      <td>3</td>\n",
       "      <td>0.0</td>\n",
       "      <td>0.04</td>\n",
       "      <td>-489.0065</td>\n",
       "      <td>0.9</td>\n",
       "      <td>-3819.951</td>\n",
       "      <td>2841.9379</td>\n",
       "      <td>False</td>\n",
       "    </tr>\n",
       "    <tr>\n",
       "      <td>4</td>\n",
       "      <td>0.0</td>\n",
       "      <td>0.05</td>\n",
       "      <td>269.9216</td>\n",
       "      <td>0.0362</td>\n",
       "      <td>8.4896</td>\n",
       "      <td>531.3536</td>\n",
       "      <td>True</td>\n",
       "    </tr>\n",
       "    <tr>\n",
       "      <td>5</td>\n",
       "      <td>0.0</td>\n",
       "      <td>0.06</td>\n",
       "      <td>-502.0065</td>\n",
       "      <td>0.9</td>\n",
       "      <td>-3832.951</td>\n",
       "      <td>2828.9379</td>\n",
       "      <td>False</td>\n",
       "    </tr>\n",
       "    <tr>\n",
       "      <td>6</td>\n",
       "      <td>0.0</td>\n",
       "      <td>0.1</td>\n",
       "      <td>17.6565</td>\n",
       "      <td>0.9</td>\n",
       "      <td>-251.6084</td>\n",
       "      <td>286.9214</td>\n",
       "      <td>False</td>\n",
       "    </tr>\n",
       "    <tr>\n",
       "      <td>7</td>\n",
       "      <td>0.0</td>\n",
       "      <td>0.15</td>\n",
       "      <td>85.716</td>\n",
       "      <td>0.9</td>\n",
       "      <td>-195.4149</td>\n",
       "      <td>366.8469</td>\n",
       "      <td>False</td>\n",
       "    </tr>\n",
       "    <tr>\n",
       "      <td>8</td>\n",
       "      <td>0.0</td>\n",
       "      <td>0.2</td>\n",
       "      <td>122.3933</td>\n",
       "      <td>0.9</td>\n",
       "      <td>-155.5997</td>\n",
       "      <td>400.3864</td>\n",
       "      <td>False</td>\n",
       "    </tr>\n",
       "    <tr>\n",
       "      <td>9</td>\n",
       "      <td>0.0</td>\n",
       "      <td>0.25</td>\n",
       "      <td>286.6044</td>\n",
       "      <td>0.045</td>\n",
       "      <td>3.0375</td>\n",
       "      <td>570.1714</td>\n",
       "      <td>True</td>\n",
       "    </tr>\n",
       "  </tbody>\n",
       "</table>\n",
       "</div>"
      ],
      "text/plain": [
       "  group1 group2   meandiff   p-adj       lower      upper reject\n",
       "0    0.0   0.01  -540.0065     0.9   -3870.951  2790.9379  False\n",
       "1    0.0   0.02  -539.5065     0.9  -2895.7333  1816.7202  False\n",
       "2    0.0   0.03  -528.4565     0.9  -2453.0368  1396.1237  False\n",
       "3    0.0   0.04  -489.0065     0.9   -3819.951  2841.9379  False\n",
       "4    0.0   0.05   269.9216  0.0362      8.4896   531.3536   True\n",
       "5    0.0   0.06  -502.0065     0.9   -3832.951  2828.9379  False\n",
       "6    0.0    0.1    17.6565     0.9   -251.6084   286.9214  False\n",
       "7    0.0   0.15     85.716     0.9   -195.4149   366.8469  False\n",
       "8    0.0    0.2   122.3933     0.9   -155.5997   400.3864  False\n",
       "9    0.0   0.25   286.6044   0.045      3.0375   570.1714   True"
      ]
     },
     "execution_count": 231,
     "metadata": {},
     "output_type": "execute_result"
    }
   ],
   "source": [
    "tukey_OQD = pd.DataFrame(data=model._results_table[1:], columns=model._results_table[0])\n",
    "tukey_OQD.head(10)\n"
   ]
  },
  {
   "cell_type": "markdown",
   "metadata": {},
   "source": [
    "### Conclusion"
   ]
  },
  {
   "cell_type": "markdown",
   "metadata": {},
   "source": [
    "We reject the null hypothesis since pvalue=3.526900409461034e-07). Cohen's D was is found to be 0.145 which has a very small statistically significant effect on sales revenue. statistical significance of 5 and 25% discount produce a very small effect on sales revenue. however there is no difference between 5% and 25% so only 5% discount will save the company money compared to 25%."
   ]
  },
  {
   "cell_type": "markdown",
   "metadata": {},
   "source": [
    "## Hypothesis 3"
   ]
  },
  {
   "cell_type": "markdown",
   "metadata": {},
   "source": [
    "Is there statistically significant difference in the mean sales revenue in North America vs the rest of the countries?"
   ]
  },
  {
   "cell_type": "markdown",
   "metadata": {},
   "source": [
    "$H_o$: The mean sales for the North America is thesame as the rest of the countries combined"
   ]
  },
  {
   "cell_type": "markdown",
   "metadata": {},
   "source": [
    "$H_1$: The mean sales from North America is more than the mean sales for rest of the countries."
   ]
  },
  {
   "cell_type": "markdown",
   "metadata": {},
   "source": [
    "### Experimental Design 3"
   ]
  },
  {
   "cell_type": "markdown",
   "metadata": {},
   "source": [
    "Quering data for the rest of the world"
   ]
  },
  {
   "cell_type": "markdown",
   "metadata": {},
   "source": [
    "#querying the database\n",
    "cur.execute(\"\"\"SELECT OrderId, Quantity, UnitPrice, AVG(UnitPrice * Quantity) as Sales\n",
    "               FROM Customer c LEFT JOIN 'Order' o\n",
    "               ON o.CustomerId = c.Id\n",
    "               LEFT JOIN OrderDetail od\n",
    "               ON od.OrderId = o.Id\n",
    "               WHERE Region != 'North America' \"\"\")\n",
    "#Storing results in dataframe\n",
    "df = pd.DataFrame(cur.fetchall())\n",
    "df.columns = [x[0] for x in cur.description]\n",
    "df.head()"
   ]
  },
  {
   "cell_type": "code",
   "execution_count": 234,
   "metadata": {},
   "outputs": [
    {
     "data": {
      "text/html": [
       "<div>\n",
       "<style scoped>\n",
       "    .dataframe tbody tr th:only-of-type {\n",
       "        vertical-align: middle;\n",
       "    }\n",
       "\n",
       "    .dataframe tbody tr th {\n",
       "        vertical-align: top;\n",
       "    }\n",
       "\n",
       "    .dataframe thead th {\n",
       "        text-align: right;\n",
       "    }\n",
       "</style>\n",
       "<table border=\"1\" class=\"dataframe\">\n",
       "  <thead>\n",
       "    <tr style=\"text-align: right;\">\n",
       "      <th></th>\n",
       "      <th>OrderId</th>\n",
       "      <th>Region</th>\n",
       "      <th>Quantity</th>\n",
       "      <th>UnitPrice</th>\n",
       "      <th>Sales</th>\n",
       "    </tr>\n",
       "  </thead>\n",
       "  <tbody>\n",
       "    <tr>\n",
       "      <td>0</td>\n",
       "      <td>10643.0</td>\n",
       "      <td>Western Europe</td>\n",
       "      <td>2.0</td>\n",
       "      <td>12.0</td>\n",
       "      <td>24.0</td>\n",
       "    </tr>\n",
       "    <tr>\n",
       "      <td>1</td>\n",
       "      <td>10643.0</td>\n",
       "      <td>Western Europe</td>\n",
       "      <td>21.0</td>\n",
       "      <td>18.0</td>\n",
       "      <td>378.0</td>\n",
       "    </tr>\n",
       "    <tr>\n",
       "      <td>2</td>\n",
       "      <td>10643.0</td>\n",
       "      <td>Western Europe</td>\n",
       "      <td>15.0</td>\n",
       "      <td>45.6</td>\n",
       "      <td>684.0</td>\n",
       "    </tr>\n",
       "    <tr>\n",
       "      <td>3</td>\n",
       "      <td>10692.0</td>\n",
       "      <td>Western Europe</td>\n",
       "      <td>20.0</td>\n",
       "      <td>43.9</td>\n",
       "      <td>878.0</td>\n",
       "    </tr>\n",
       "    <tr>\n",
       "      <td>4</td>\n",
       "      <td>10702.0</td>\n",
       "      <td>Western Europe</td>\n",
       "      <td>6.0</td>\n",
       "      <td>10.0</td>\n",
       "      <td>60.0</td>\n",
       "    </tr>\n",
       "  </tbody>\n",
       "</table>\n",
       "</div>"
      ],
      "text/plain": [
       "   OrderId          Region  Quantity  UnitPrice  Sales\n",
       "0  10643.0  Western Europe       2.0       12.0   24.0\n",
       "1  10643.0  Western Europe      21.0       18.0  378.0\n",
       "2  10643.0  Western Europe      15.0       45.6  684.0\n",
       "3  10692.0  Western Europe      20.0       43.9  878.0\n",
       "4  10702.0  Western Europe       6.0       10.0   60.0"
      ]
     },
     "execution_count": 234,
     "metadata": {},
     "output_type": "execute_result"
    }
   ],
   "source": [
    "#querying the database\n",
    "cur.execute(\"\"\"SELECT OrderId, Region, Quantity, UnitPrice, (UnitPrice * Quantity) as Sales\n",
    "               FROM Customer c LEFT JOIN 'Order' o\n",
    "               ON o.CustomerId = c.Id\n",
    "               LEFT JOIN OrderDetail od\n",
    "               ON od.OrderId = o.Id\n",
    "               WHERE Region != 'North America' \"\"\")\n",
    "#Storing results in dataframe\n",
    "df = pd.DataFrame(cur.fetchall())\n",
    "df.columns = [x[0] for x in cur.description]\n",
    "df.head()"
   ]
  },
  {
   "cell_type": "markdown",
   "metadata": {},
   "source": [
    "Quering data for North America"
   ]
  },
  {
   "cell_type": "code",
   "execution_count": 235,
   "metadata": {},
   "outputs": [
    {
     "data": {
      "text/html": [
       "<div>\n",
       "<style scoped>\n",
       "    .dataframe tbody tr th:only-of-type {\n",
       "        vertical-align: middle;\n",
       "    }\n",
       "\n",
       "    .dataframe tbody tr th {\n",
       "        vertical-align: top;\n",
       "    }\n",
       "\n",
       "    .dataframe thead th {\n",
       "        text-align: right;\n",
       "    }\n",
       "</style>\n",
       "<table border=\"1\" class=\"dataframe\">\n",
       "  <thead>\n",
       "    <tr style=\"text-align: right;\">\n",
       "      <th></th>\n",
       "      <th>OrderId</th>\n",
       "      <th>Region</th>\n",
       "      <th>Quantity</th>\n",
       "      <th>UnitPrice</th>\n",
       "      <th>Sales</th>\n",
       "    </tr>\n",
       "  </thead>\n",
       "  <tbody>\n",
       "    <tr>\n",
       "      <td>0</td>\n",
       "      <td>10389</td>\n",
       "      <td>North America</td>\n",
       "      <td>30</td>\n",
       "      <td>12</td>\n",
       "      <td>746.840937</td>\n",
       "    </tr>\n",
       "  </tbody>\n",
       "</table>\n",
       "</div>"
      ],
      "text/plain": [
       "   OrderId         Region  Quantity  UnitPrice       Sales\n",
       "0    10389  North America        30         12  746.840937"
      ]
     },
     "execution_count": 235,
     "metadata": {},
     "output_type": "execute_result"
    }
   ],
   "source": [
    "#querying the database\n",
    "cur.execute(\"\"\"SELECT OrderId, Region, Quantity, UnitPrice, AVG(UnitPrice * Quantity) as Sales\n",
    "               FROM Customer c LEFT JOIN 'Order' o\n",
    "               ON o.CustomerId = c.Id\n",
    "               LEFT JOIN OrderDetail od\n",
    "               ON od.OrderId = o.Id\n",
    "               WHERE Region = 'North America'\"\"\")\n",
    "#Storing results in dataframe\n",
    "df1 = pd.DataFrame(cur.fetchall())\n",
    "df1.columns = [x[0] for x in cur.description]\n",
    "df1.head(10)"
   ]
  },
  {
   "cell_type": "code",
   "execution_count": 236,
   "metadata": {
    "code_folding": []
   },
   "outputs": [
    {
     "data": {
      "text/html": [
       "<div>\n",
       "<style scoped>\n",
       "    .dataframe tbody tr th:only-of-type {\n",
       "        vertical-align: middle;\n",
       "    }\n",
       "\n",
       "    .dataframe tbody tr th {\n",
       "        vertical-align: top;\n",
       "    }\n",
       "\n",
       "    .dataframe thead th {\n",
       "        text-align: right;\n",
       "    }\n",
       "</style>\n",
       "<table border=\"1\" class=\"dataframe\">\n",
       "  <thead>\n",
       "    <tr style=\"text-align: right;\">\n",
       "      <th></th>\n",
       "      <th>OrderId</th>\n",
       "      <th>Region</th>\n",
       "      <th>Quantity</th>\n",
       "      <th>UnitPrice</th>\n",
       "      <th>Sales</th>\n",
       "    </tr>\n",
       "  </thead>\n",
       "  <tbody>\n",
       "    <tr>\n",
       "      <td>0</td>\n",
       "      <td>10389</td>\n",
       "      <td>North America</td>\n",
       "      <td>30</td>\n",
       "      <td>12.0</td>\n",
       "      <td>360.0</td>\n",
       "    </tr>\n",
       "    <tr>\n",
       "      <td>1</td>\n",
       "      <td>10389</td>\n",
       "      <td>North America</td>\n",
       "      <td>15</td>\n",
       "      <td>19.2</td>\n",
       "      <td>288.0</td>\n",
       "    </tr>\n",
       "    <tr>\n",
       "      <td>2</td>\n",
       "      <td>10389</td>\n",
       "      <td>North America</td>\n",
       "      <td>16</td>\n",
       "      <td>24.8</td>\n",
       "      <td>396.8</td>\n",
       "    </tr>\n",
       "    <tr>\n",
       "      <td>3</td>\n",
       "      <td>10389</td>\n",
       "      <td>North America</td>\n",
       "      <td>20</td>\n",
       "      <td>39.4</td>\n",
       "      <td>788.0</td>\n",
       "    </tr>\n",
       "    <tr>\n",
       "      <td>4</td>\n",
       "      <td>10410</td>\n",
       "      <td>North America</td>\n",
       "      <td>49</td>\n",
       "      <td>2.0</td>\n",
       "      <td>98.0</td>\n",
       "    </tr>\n",
       "    <tr>\n",
       "      <td>5</td>\n",
       "      <td>10410</td>\n",
       "      <td>North America</td>\n",
       "      <td>16</td>\n",
       "      <td>44.0</td>\n",
       "      <td>704.0</td>\n",
       "    </tr>\n",
       "    <tr>\n",
       "      <td>6</td>\n",
       "      <td>10411</td>\n",
       "      <td>North America</td>\n",
       "      <td>25</td>\n",
       "      <td>7.7</td>\n",
       "      <td>192.5</td>\n",
       "    </tr>\n",
       "    <tr>\n",
       "      <td>7</td>\n",
       "      <td>10411</td>\n",
       "      <td>North America</td>\n",
       "      <td>40</td>\n",
       "      <td>15.5</td>\n",
       "      <td>620.0</td>\n",
       "    </tr>\n",
       "    <tr>\n",
       "      <td>8</td>\n",
       "      <td>10411</td>\n",
       "      <td>North America</td>\n",
       "      <td>9</td>\n",
       "      <td>44.0</td>\n",
       "      <td>396.0</td>\n",
       "    </tr>\n",
       "    <tr>\n",
       "      <td>9</td>\n",
       "      <td>10431</td>\n",
       "      <td>North America</td>\n",
       "      <td>30</td>\n",
       "      <td>7.6</td>\n",
       "      <td>228.0</td>\n",
       "    </tr>\n",
       "  </tbody>\n",
       "</table>\n",
       "</div>"
      ],
      "text/plain": [
       "   OrderId         Region  Quantity  UnitPrice  Sales\n",
       "0    10389  North America        30       12.0  360.0\n",
       "1    10389  North America        15       19.2  288.0\n",
       "2    10389  North America        16       24.8  396.8\n",
       "3    10389  North America        20       39.4  788.0\n",
       "4    10410  North America        49        2.0   98.0\n",
       "5    10410  North America        16       44.0  704.0\n",
       "6    10411  North America        25        7.7  192.5\n",
       "7    10411  North America        40       15.5  620.0\n",
       "8    10411  North America         9       44.0  396.0\n",
       "9    10431  North America        30        7.6  228.0"
      ]
     },
     "execution_count": 236,
     "metadata": {},
     "output_type": "execute_result"
    }
   ],
   "source": [
    "#querying the database\n",
    "cur.execute(\"\"\"SELECT OrderId, Region, Quantity, UnitPrice, (UnitPrice * Quantity) as Sales\n",
    "               FROM Customer c LEFT JOIN 'Order' o\n",
    "               ON o.CustomerId = c.Id\n",
    "               LEFT JOIN OrderDetail od\n",
    "               ON od.OrderId = o.Id\n",
    "               WHERE Region = 'North America'\"\"\")\n",
    "#Storing results in dataframe\n",
    "df1 = pd.DataFrame(cur.fetchall())\n",
    "df1.columns = [x[0] for x in cur.description]\n",
    "df1.head(10)"
   ]
  },
  {
   "cell_type": "code",
   "execution_count": 237,
   "metadata": {},
   "outputs": [
    {
     "data": {
      "text/plain": [
       "OrderId      6\n",
       "Region       0\n",
       "Quantity     6\n",
       "UnitPrice    6\n",
       "Sales        6\n",
       "dtype: int64"
      ]
     },
     "execution_count": 237,
     "metadata": {},
     "output_type": "execute_result"
    }
   ],
   "source": [
    "df.isnull().sum()"
   ]
  },
  {
   "cell_type": "code",
   "execution_count": 238,
   "metadata": {},
   "outputs": [],
   "source": [
    "df = df.dropna()"
   ]
  },
  {
   "cell_type": "code",
   "execution_count": 239,
   "metadata": {},
   "outputs": [
    {
     "data": {
      "text/plain": [
       "0"
      ]
     },
     "execution_count": 239,
     "metadata": {},
     "output_type": "execute_result"
    }
   ],
   "source": [
    "df.Sales.isnull().sum()"
   ]
  },
  {
   "cell_type": "markdown",
   "metadata": {},
   "source": [
    "### Two-Sample T-Test"
   ]
  },
  {
   "cell_type": "markdown",
   "metadata": {},
   "source": [
    "Since we are using the means of the sales, we will use two-sample test"
   ]
  },
  {
   "cell_type": "code",
   "execution_count": 240,
   "metadata": {},
   "outputs": [
    {
     "data": {
      "text/plain": [
       "Ttest_indResult(statistic=-2.333670945823791, pvalue=0.019947978580506773)"
      ]
     },
     "execution_count": 240,
     "metadata": {},
     "output_type": "execute_result"
    }
   ],
   "source": [
    "stat.ttest_ind(df.Sales, df1.Sales, equal_var = False)"
   ]
  },
  {
   "cell_type": "markdown",
   "metadata": {},
   "source": [
    "The model produces pvalue(0.02) < alpha, so we reject the null hypothesis."
   ]
  },
  {
   "cell_type": "markdown",
   "metadata": {},
   "source": [
    "### Effective size"
   ]
  },
  {
   "cell_type": "code",
   "execution_count": 241,
   "metadata": {},
   "outputs": [
    {
     "data": {
      "text/plain": [
       "0.14048978188173492"
      ]
     },
     "execution_count": 241,
     "metadata": {},
     "output_type": "execute_result"
    }
   ],
   "source": [
    "abs(Cohen_d(df.Sales, df1.Sales))"
   ]
  },
  {
   "cell_type": "code",
   "execution_count": 242,
   "metadata": {},
   "outputs": [
    {
     "data": {
      "image/png": "[encoded data removed]",
      "text/plain": [
       "<Figure size 864x720 with 1 Axes>"
      ]
     },
     "metadata": {},
     "output_type": "display_data"
    }
   ],
   "source": [
    "plt.bar(x = 'North America', height = df1.Sales.mean(),\n",
    "        yerr = stat.sem(df1.Sales))\n",
    "plt.bar(x = 'Rest of World', height = df.Sales.mean(), yerr = stat.sem(df.Sales))\n",
    "plt.show();"
   ]
  },
  {
   "cell_type": "markdown",
   "metadata": {},
   "source": [
    "### Conclusion"
   ]
  },
  {
   "cell_type": "markdown",
   "metadata": {},
   "source": [
    "The model produces pvalue(0.02) < alpha, so we reject the null hypothesis. The cohen's D is 0.14 which shows a very small effect that can not be seen by the naked eye."
   ]
  },
  {
   "cell_type": "markdown",
   "metadata": {},
   "source": [
    "## Hypothesis 4"
   ]
  },
  {
   "cell_type": "markdown",
   "metadata": {},
   "source": [
    "Is there a statistical difference in the mean quantity of products ordered by customers from North America vs the rest of the world?"
   ]
  },
  {
   "cell_type": "markdown",
   "metadata": {},
   "source": [
    "$H_o$: The mean quantity ordered by customers in North America is 23.26"
   ]
  },
  {
   "cell_type": "markdown",
   "metadata": {},
   "source": [
    "$H_1$: The mean quantity of product ordered by customers in North America is greater that 23.26"
   ]
  },
  {
   "cell_type": "code",
   "execution_count": 243,
   "metadata": {},
   "outputs": [
    {
     "data": {
      "text/html": [
       "<div>\n",
       "<style scoped>\n",
       "    .dataframe tbody tr th:only-of-type {\n",
       "        vertical-align: middle;\n",
       "    }\n",
       "\n",
       "    .dataframe tbody tr th {\n",
       "        vertical-align: top;\n",
       "    }\n",
       "\n",
       "    .dataframe thead th {\n",
       "        text-align: right;\n",
       "    }\n",
       "</style>\n",
       "<table border=\"1\" class=\"dataframe\">\n",
       "  <thead>\n",
       "    <tr style=\"text-align: right;\">\n",
       "      <th></th>\n",
       "      <th>OrderId</th>\n",
       "      <th>Region</th>\n",
       "      <th>AVG(Quantity)</th>\n",
       "    </tr>\n",
       "  </thead>\n",
       "  <tbody>\n",
       "    <tr>\n",
       "      <td>0</td>\n",
       "      <td>10643</td>\n",
       "      <td>Western Europe</td>\n",
       "      <td>23.259237</td>\n",
       "    </tr>\n",
       "  </tbody>\n",
       "</table>\n",
       "</div>"
      ],
      "text/plain": [
       "   OrderId          Region  AVG(Quantity)\n",
       "0    10643  Western Europe      23.259237"
      ]
     },
     "execution_count": 243,
     "metadata": {},
     "output_type": "execute_result"
    }
   ],
   "source": [
    "#querying the database\n",
    "cur.execute(\"\"\"SELECT OrderId, Region, AVG(Quantity)\n",
    "               FROM Customer c LEFT JOIN 'Order' o\n",
    "               ON o.CustomerId = c.Id\n",
    "               LEFT JOIN OrderDetail od\n",
    "               ON od.OrderId = o.Id\n",
    "               WHERE Region != 'North America'\n",
    "                \"\"\")\n",
    "#Storing results in dataframe\n",
    "df1 = pd.DataFrame(cur.fetchall())\n",
    "df1.columns = [x[0] for x in cur.description]\n",
    "df1.head(10)"
   ]
  },
  {
   "cell_type": "code",
   "execution_count": 244,
   "metadata": {},
   "outputs": [
    {
     "data": {
      "text/html": [
       "<div>\n",
       "<style scoped>\n",
       "    .dataframe tbody tr th:only-of-type {\n",
       "        vertical-align: middle;\n",
       "    }\n",
       "\n",
       "    .dataframe tbody tr th {\n",
       "        vertical-align: top;\n",
       "    }\n",
       "\n",
       "    .dataframe thead th {\n",
       "        text-align: right;\n",
       "    }\n",
       "</style>\n",
       "<table border=\"1\" class=\"dataframe\">\n",
       "  <thead>\n",
       "    <tr style=\"text-align: right;\">\n",
       "      <th></th>\n",
       "      <th>OrderId</th>\n",
       "      <th>Region</th>\n",
       "      <th>Quantity</th>\n",
       "    </tr>\n",
       "  </thead>\n",
       "  <tbody>\n",
       "    <tr>\n",
       "      <td>0</td>\n",
       "      <td>10643.0</td>\n",
       "      <td>Western Europe</td>\n",
       "      <td>2.0</td>\n",
       "    </tr>\n",
       "    <tr>\n",
       "      <td>1</td>\n",
       "      <td>10643.0</td>\n",
       "      <td>Western Europe</td>\n",
       "      <td>15.0</td>\n",
       "    </tr>\n",
       "    <tr>\n",
       "      <td>2</td>\n",
       "      <td>10643.0</td>\n",
       "      <td>Western Europe</td>\n",
       "      <td>21.0</td>\n",
       "    </tr>\n",
       "    <tr>\n",
       "      <td>3</td>\n",
       "      <td>10692.0</td>\n",
       "      <td>Western Europe</td>\n",
       "      <td>20.0</td>\n",
       "    </tr>\n",
       "    <tr>\n",
       "      <td>4</td>\n",
       "      <td>10702.0</td>\n",
       "      <td>Western Europe</td>\n",
       "      <td>6.0</td>\n",
       "    </tr>\n",
       "    <tr>\n",
       "      <td>5</td>\n",
       "      <td>10702.0</td>\n",
       "      <td>Western Europe</td>\n",
       "      <td>15.0</td>\n",
       "    </tr>\n",
       "    <tr>\n",
       "      <td>6</td>\n",
       "      <td>10835.0</td>\n",
       "      <td>Western Europe</td>\n",
       "      <td>2.0</td>\n",
       "    </tr>\n",
       "    <tr>\n",
       "      <td>7</td>\n",
       "      <td>10835.0</td>\n",
       "      <td>Western Europe</td>\n",
       "      <td>15.0</td>\n",
       "    </tr>\n",
       "    <tr>\n",
       "      <td>8</td>\n",
       "      <td>10952.0</td>\n",
       "      <td>Western Europe</td>\n",
       "      <td>2.0</td>\n",
       "    </tr>\n",
       "    <tr>\n",
       "      <td>9</td>\n",
       "      <td>10952.0</td>\n",
       "      <td>Western Europe</td>\n",
       "      <td>16.0</td>\n",
       "    </tr>\n",
       "  </tbody>\n",
       "</table>\n",
       "</div>"
      ],
      "text/plain": [
       "   OrderId          Region  Quantity\n",
       "0  10643.0  Western Europe       2.0\n",
       "1  10643.0  Western Europe      15.0\n",
       "2  10643.0  Western Europe      21.0\n",
       "3  10692.0  Western Europe      20.0\n",
       "4  10702.0  Western Europe       6.0\n",
       "5  10702.0  Western Europe      15.0\n",
       "6  10835.0  Western Europe       2.0\n",
       "7  10835.0  Western Europe      15.0\n",
       "8  10952.0  Western Europe       2.0\n",
       "9  10952.0  Western Europe      16.0"
      ]
     },
     "execution_count": 244,
     "metadata": {},
     "output_type": "execute_result"
    }
   ],
   "source": [
    "#querying the database\n",
    "cur.execute(\"\"\"SELECT OrderId, Region, Quantity\n",
    "               FROM Customer c LEFT JOIN 'Order' o\n",
    "               ON o.CustomerId = c.Id\n",
    "               LEFT JOIN OrderDetail od\n",
    "               ON od.OrderId = o.Id\n",
    "               WHERE Region != 'North America'\"\"\")\n",
    "#Storing results in dataframe\n",
    "df2 = pd.DataFrame(cur.fetchall())\n",
    "df2.columns = [x[0] for x in cur.description]\n",
    "df2.head(10)"
   ]
  },
  {
   "cell_type": "code",
   "execution_count": 245,
   "metadata": {},
   "outputs": [
    {
     "data": {
      "text/html": [
       "<div>\n",
       "<style scoped>\n",
       "    .dataframe tbody tr th:only-of-type {\n",
       "        vertical-align: middle;\n",
       "    }\n",
       "\n",
       "    .dataframe tbody tr th {\n",
       "        vertical-align: top;\n",
       "    }\n",
       "\n",
       "    .dataframe thead th {\n",
       "        text-align: right;\n",
       "    }\n",
       "</style>\n",
       "<table border=\"1\" class=\"dataframe\">\n",
       "  <thead>\n",
       "    <tr style=\"text-align: right;\">\n",
       "      <th></th>\n",
       "      <th>OrderId</th>\n",
       "      <th>Region</th>\n",
       "      <th>Quantity</th>\n",
       "    </tr>\n",
       "  </thead>\n",
       "  <tbody>\n",
       "    <tr>\n",
       "      <td>0</td>\n",
       "      <td>10389</td>\n",
       "      <td>North America</td>\n",
       "      <td>15</td>\n",
       "    </tr>\n",
       "    <tr>\n",
       "      <td>1</td>\n",
       "      <td>10389</td>\n",
       "      <td>North America</td>\n",
       "      <td>16</td>\n",
       "    </tr>\n",
       "    <tr>\n",
       "      <td>2</td>\n",
       "      <td>10389</td>\n",
       "      <td>North America</td>\n",
       "      <td>20</td>\n",
       "    </tr>\n",
       "    <tr>\n",
       "      <td>3</td>\n",
       "      <td>10389</td>\n",
       "      <td>North America</td>\n",
       "      <td>30</td>\n",
       "    </tr>\n",
       "    <tr>\n",
       "      <td>4</td>\n",
       "      <td>10410</td>\n",
       "      <td>North America</td>\n",
       "      <td>16</td>\n",
       "    </tr>\n",
       "  </tbody>\n",
       "</table>\n",
       "</div>"
      ],
      "text/plain": [
       "   OrderId         Region  Quantity\n",
       "0    10389  North America        15\n",
       "1    10389  North America        16\n",
       "2    10389  North America        20\n",
       "3    10389  North America        30\n",
       "4    10410  North America        16"
      ]
     },
     "execution_count": 245,
     "metadata": {},
     "output_type": "execute_result"
    }
   ],
   "source": [
    "#querying the database\n",
    "cur.execute(\"\"\"SELECT OrderId, Region, Quantity\n",
    "               FROM Customer c LEFT JOIN 'Order' o\n",
    "               ON o.CustomerId = c.Id\n",
    "               LEFT JOIN OrderDetail od\n",
    "               ON od.OrderId = o.Id\n",
    "               WHERE Region = 'North America' \"\"\")\n",
    "#Storing results in dataframe\n",
    "df3 = pd.DataFrame(cur.fetchall())\n",
    "df3.columns = [x[0] for x in cur.description]\n",
    "df3.head()"
   ]
  },
  {
   "cell_type": "code",
   "execution_count": 246,
   "metadata": {},
   "outputs": [
    {
     "data": {
      "text/html": [
       "<div>\n",
       "<style scoped>\n",
       "    .dataframe tbody tr th:only-of-type {\n",
       "        vertical-align: middle;\n",
       "    }\n",
       "\n",
       "    .dataframe tbody tr th {\n",
       "        vertical-align: top;\n",
       "    }\n",
       "\n",
       "    .dataframe thead th {\n",
       "        text-align: right;\n",
       "    }\n",
       "</style>\n",
       "<table border=\"1\" class=\"dataframe\">\n",
       "  <thead>\n",
       "    <tr style=\"text-align: right;\">\n",
       "      <th></th>\n",
       "      <th>OrderId</th>\n",
       "      <th>Region</th>\n",
       "      <th>AVG(Quantity)</th>\n",
       "    </tr>\n",
       "  </thead>\n",
       "  <tbody>\n",
       "    <tr>\n",
       "      <td>0</td>\n",
       "      <td>10389</td>\n",
       "      <td>North America</td>\n",
       "      <td>26.496487</td>\n",
       "    </tr>\n",
       "  </tbody>\n",
       "</table>\n",
       "</div>"
      ],
      "text/plain": [
       "   OrderId         Region  AVG(Quantity)\n",
       "0    10389  North America      26.496487"
      ]
     },
     "execution_count": 246,
     "metadata": {},
     "output_type": "execute_result"
    }
   ],
   "source": [
    "#querying the database\n",
    "cur.execute(\"\"\"SELECT OrderId, Region, AVG(Quantity)\n",
    "               FROM Customer c LEFT JOIN 'Order' o\n",
    "               ON o.CustomerId = c.Id\n",
    "               LEFT JOIN OrderDetail od\n",
    "               ON od.OrderId = o.Id\n",
    "               WHERE Region = 'North America'\n",
    "                \"\"\")\n",
    "#Storing results in dataframe\n",
    "df1 = pd.DataFrame(cur.fetchall())\n",
    "df1.columns = [x[0] for x in cur.description]\n",
    "df1.head(10)"
   ]
  },
  {
   "cell_type": "code",
   "execution_count": 247,
   "metadata": {},
   "outputs": [
    {
     "data": {
      "text/plain": [
       "OrderId     6\n",
       "Region      0\n",
       "Quantity    6\n",
       "dtype: int64"
      ]
     },
     "execution_count": 247,
     "metadata": {},
     "output_type": "execute_result"
    }
   ],
   "source": [
    "df2.isnull().sum()"
   ]
  },
  {
   "cell_type": "code",
   "execution_count": 248,
   "metadata": {},
   "outputs": [
    {
     "data": {
      "text/plain": [
       "OrderId     0\n",
       "Region      0\n",
       "Quantity    0\n",
       "dtype: int64"
      ]
     },
     "execution_count": 248,
     "metadata": {},
     "output_type": "execute_result"
    }
   ],
   "source": [
    "df3.isnull().sum()"
   ]
  },
  {
   "cell_type": "code",
   "execution_count": 249,
   "metadata": {},
   "outputs": [],
   "source": [
    "df2 = df2.dropna()"
   ]
  },
  {
   "cell_type": "code",
   "execution_count": 250,
   "metadata": {},
   "outputs": [
    {
     "data": {
      "text/plain": [
       "0"
      ]
     },
     "execution_count": 250,
     "metadata": {},
     "output_type": "execute_result"
    }
   ],
   "source": [
    "df2.Quantity.isnull().sum()"
   ]
  },
  {
   "cell_type": "markdown",
   "metadata": {},
   "source": [
    "### Experiment Design 4"
   ]
  },
  {
   "cell_type": "markdown",
   "metadata": {},
   "source": [
    "### Two-Sample Test"
   ]
  },
  {
   "cell_type": "code",
   "execution_count": 251,
   "metadata": {},
   "outputs": [
    {
     "data": {
      "text/plain": [
       "Ttest_indResult(statistic=-2.7427622902755946, pvalue=0.006282273797625049)"
      ]
     },
     "execution_count": 251,
     "metadata": {},
     "output_type": "execute_result"
    }
   ],
   "source": [
    "stat.ttest_ind(df2.Quantity, df3.Quantity, equal_var = False)"
   ]
  },
  {
   "cell_type": "markdown",
   "metadata": {},
   "source": [
    "The model produces pvalue(0.0063) < alpha, so we reject the null hypothesis."
   ]
  },
  {
   "cell_type": "markdown",
   "metadata": {},
   "source": [
    "### Effective size"
   ]
  },
  {
   "cell_type": "code",
   "execution_count": 252,
   "metadata": {},
   "outputs": [
    {
     "data": {
      "text/plain": [
       "0.16937825416696875"
      ]
     },
     "execution_count": 252,
     "metadata": {},
     "output_type": "execute_result"
    }
   ],
   "source": [
    "abs(Cohen_d(df2.Quantity, df3.Quantity))"
   ]
  },
  {
   "cell_type": "code",
   "execution_count": 253,
   "metadata": {},
   "outputs": [
    {
     "data": {
      "image/png": "[encoded data removed]",
      "text/plain": [
       "<Figure size 864x720 with 1 Axes>"
      ]
     },
     "metadata": {},
     "output_type": "display_data"
    }
   ],
   "source": [
    "plt.bar(x = 'North America', height = df3.Quantity.mean(),\n",
    "        yerr = stat.sem(df3.Quantity))\n",
    "plt.bar(x = 'Rest of World', height = df2.Quantity.mean(), yerr = stat.sem(df2.Quantity))\n",
    "plt.show();"
   ]
  },
  {
   "cell_type": "markdown",
   "metadata": {},
   "source": [
    "### Conclusion "
   ]
  },
  {
   "cell_type": "markdown",
   "metadata": {},
   "source": [
    "The model produces pvalue(0.0189) < alpha, so we reject the null hypothesis. The cohen's D is 0.13 which shows a very small effect that can not be seen by the naked eye."
   ]
  }
 ],
 "metadata": {
  "kernelspec": {
   "display_name": "Python 3",
   "language": "python",
   "name": "python3"
  },
  "language_info": {
   "codemirror_mode": {
    "name": "ipython",
    "version": 3
   },
   "file_extension": ".py",
   "mimetype": "text/x-python",
   "name": "python",
   "nbconvert_exporter": "python",
   "pygments_lexer": "ipython3",
   "version": "3.6.9"
  },
  "toc": {
   "base_numbering": 1,
   "nav_menu": {},
   "number_sections": true,
   "sideBar": true,
   "skip_h1_title": false,
   "title_cell": "Table of Contents",
   "title_sidebar": "Contents",
   "toc_cell": false,
   "toc_position": {
    "height": "47.2585px",
    "left": "612.534px",
    "top": "110.284px",
    "width": "354.986px"
   },
   "toc_section_display": true,
   "toc_window_display": true
  },
  "varInspector": {
   "cols": {
    "lenName": 16,
    "lenType": 16,
    "lenVar": 40
   },
   "kernels_config": {
    "python": {
     "delete_cmd_postfix": "",
     "delete_cmd_prefix": "del ",
     "library": "var_list.py",
     "varRefreshCmd": "print(var_dic_list())"
    },
    "r": {
     "delete_cmd_postfix": ") ",
     "delete_cmd_prefix": "rm(",
     "library": "var_list.r",
     "varRefreshCmd": "cat(var_dic_list()) "
    }
   },
   "position": {
    "height": "144.545px",
    "left": "845.454px",
    "right": "20px",
    "top": "104px",
    "width": "350px"
   },
   "types_to_exclude": [
    "module",
    "function",
    "builtin_function_or_method",
    "instance",
    "_Feature"
   ],
   "window_display": false
  }
 },
 "nbformat": 4,
 "nbformat_minor": 2
}
